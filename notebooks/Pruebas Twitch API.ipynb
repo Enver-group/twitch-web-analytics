{
 "cells": [
  {
   "cell_type": "code",
   "execution_count": 12,
   "id": "297880f0",
   "metadata": {},
   "outputs": [
    {
     "data": {
      "text/plain": [
       "{'data': [{'broadcaster_id': '216480615',\n",
       "   'broadcaster_login': 'esies5',\n",
       "   'broadcaster_name': 'esies5',\n",
       "   'broadcaster_language': '',\n",
       "   'game_id': '',\n",
       "   'game_name': '',\n",
       "   'title': '',\n",
       "   'delay': 0}]}"
      ]
     },
     "execution_count": 12,
     "metadata": {},
     "output_type": "execute_result"
    }
   ],
   "source": [
    "import requests\n",
    "\n",
    "#https://dev.twitch.tv/docs/api/reference\n",
    "\n",
    "authURL = 'https://id.twitch.tv/oauth2/token'\n",
    "Client_ID = \"mftbqmtct17f7qhytny1dxuvvaudnk\"\n",
    "Secret  = \"944pe50mrbwbal26lga5wx1pk3g6y8\"\n",
    "\n",
    "AutParams = {'client_id': Client_ID,\n",
    "             'client_secret': Secret,\n",
    "             'grant_type': 'client_credentials'\n",
    "             }\n",
    "\n",
    "\n",
    "def connect_to_endpoint(url):\n",
    "    \n",
    "    AutCall = requests.post(url=authURL, params=AutParams) \n",
    "    access_token = AutCall.json()['access_token']\n",
    "\n",
    "    head = {\n",
    "    'Client-ID' : Client_ID,\n",
    "    'Authorization' :  \"Bearer \" + access_token, \n",
    "    }\n",
    "\n",
    "    response = requests.get(url, headers = head)\n",
    "    \n",
    "    if response.status_code != 200:\n",
    "        raise Exception(\n",
    "            \"Request returned an error: {} {}\".format(\n",
    "                response.status_code, response.text\n",
    "            )\n",
    "        )\n",
    "    \n",
    "    return response.json()\n",
    "\n",
    "streamer_id = connect_to_endpoint('https://api.twitch.tv/helix/users?login=esies5')[\"data\"][0][\"id\"]\n",
    "connect_to_endpoint(f'https://api.twitch.tv/helix/channels?broadcaster_id={streamer_id}&broadcaster_language=es')"
   ]
  },
  {
   "cell_type": "code",
   "execution_count": 13,
   "id": "77d74603",
   "metadata": {},
   "outputs": [
    {
     "data": {
      "text/plain": [
       "{'total': 0, 'data': [], 'pagination': {}}"
      ]
     },
     "execution_count": 13,
     "metadata": {},
     "output_type": "execute_result"
    }
   ],
   "source": [
    "connect_to_endpoint(f'https://api.twitch.tv/helix/users/follows?to_id={streamer_id}')"
   ]
  }
 ],
 "metadata": {
  "kernelspec": {
   "display_name": "Python 3",
   "language": "python",
   "name": "python3"
  },
  "language_info": {
   "codemirror_mode": {
    "name": "ipython",
    "version": 3
   },
   "file_extension": ".py",
   "mimetype": "text/x-python",
   "name": "python",
   "nbconvert_exporter": "python",
   "pygments_lexer": "ipython3",
   "version": "3.8.8"
  }
 },
 "nbformat": 4,
 "nbformat_minor": 5
}
