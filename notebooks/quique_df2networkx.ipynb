{
 "cells": [
  {
   "cell_type": "code",
   "execution_count": 1,
   "metadata": {
    "id": "shJ3NL0xrPeB"
   },
   "outputs": [],
   "source": [
    "import os\n",
    "import numpy as np\n",
    "import pandas as pd\n",
    "import matplotlib.pyplot as plt\n",
    "import networkx as nx\n",
    "import pickle\n",
    "import collections\n",
    "\n",
    "from networkx.algorithms import community\n",
    "import community.community_louvain as community_louvain\n",
    "import time"
   ]
  },
  {
   "cell_type": "code",
   "execution_count": 2,
   "metadata": {
    "id": "MrmZMxNgquPX"
   },
   "outputs": [],
   "source": [
    "%%capture\n",
    "\n",
    "# check if this is a colab notebook and clone the repo if it is\n",
    "if 'COLAB_GPU' in os.environ:\n",
    "    %cd /content/\n",
    "    !git clone https://github.com/Enver-group/twitch-web-analytics\n",
    "    %cd twitch-web-analytics\n",
    "else:\n",
    "    os.chdir('..')\n",
    "\n",
    "!pip install -r requirements.txt\n",
    "\n",
    "!pip install -e ."
   ]
  },
  {
   "cell_type": "code",
   "execution_count": 3,
   "metadata": {
    "colab": {
     "base_uri": "https://localhost:8080/"
    },
    "id": "CSjLcWjyq1dJ",
    "outputId": "db722f20-8a83-4816-a1fe-3f065e6f0272"
   },
   "outputs": [],
   "source": [
    "#autoreload modules\n",
    "%load_ext autoreload\n",
    "%autoreload 2\n",
    "\n",
    "from src.user import User"
   ]
  },
  {
   "cell_type": "code",
   "execution_count": 4,
   "metadata": {
    "colab": {
     "base_uri": "https://localhost:8080/"
    },
    "id": "MQ3Ad0HM0wBr",
    "outputId": "f9b4c2a3-1805-4b13-df9f-dcfa65933405"
   },
   "outputs": [
    {
     "name": "stdout",
     "output_type": "stream",
     "text": [
      "81217 users have been removed for having null data in num_followers\n",
      "74310 users have been removed from the arrays in 'user_follows'\n",
      "122 users don't follow to any user after applying the previous filters\n"
     ]
    }
   ],
   "source": [
    "df = pd.read_feather(\"data/streamers.feather\")\n",
    "\n",
    "#TODO: put this cell in the code that generates the dataframe\n",
    "\n",
    "# removing users that have no data about which users they follow\n",
    "num_users = df.shape[0]\n",
    "df.dropna(subset=['num_followers'],inplace=True)\n",
    "print(num_users - df.shape[0], \"users have been removed for having null data in num_followers\")\n",
    "\n",
    "# remove from each array with users followed (the arrays that are in 'user_follows') the users that are not in the dataset\n",
    "df_streamers_exploded = df.explode(\"user_follows\")\n",
    "num_users_followed = len(df_streamers_exploded[\"user_follows\"].unique())\n",
    "df_streamers_exploded = df_streamers_exploded[df_streamers_exploded[\"user_follows\"].isin(df.id)]\n",
    "print(num_users_followed - len(df_streamers_exploded[\"user_follows\"].unique()), \"users have been removed from the arrays in 'user_follows'\")\n",
    "user_follows_arrays = df_streamers_exploded.groupby(\"id\").user_follows.apply(np.array).reset_index()\n",
    "df = df.set_index(\"id\")\n",
    "df.loc[user_follows_arrays.id,\"user_follows\"] = user_follows_arrays.user_follows.values\n",
    "# assign empty arrays to the users removed for not following any user of the dataset\n",
    "not_in_set_or_null = ~df.index.isin(user_follows_arrays.id)\n",
    "df.loc[not_in_set_or_null,\"user_follows\"] =  pd.Series([[]]*not_in_set_or_null.sum()).values\n",
    "df.reset_index(level=0, inplace=True)\n",
    "print(not_in_set_or_null.sum(), \"users don't follow to any user after applying the previous filters\")\n"
   ]
  },
  {
   "cell_type": "code",
   "execution_count": 5,
   "metadata": {
    "id": "0lNfmO8I0o62"
   },
   "outputs": [],
   "source": [
    "# converting the df into a graph\n",
    "G = nx.DiGraph()\n",
    "for i,user in df.iterrows():\n",
    "  G.add_node(user[\"id\"], **user.drop([\"id\",\"user_follows\"]))\n",
    "  if isinstance(user[\"user_follows\"], np.ndarray):\n",
    "    G.add_edges_from([(user[\"id\"], id_followed) for id_followed in user[\"user_follows\"]]) "
   ]
  },
  {
   "cell_type": "code",
   "execution_count": 6,
   "metadata": {
    "colab": {
     "base_uri": "https://localhost:8080/"
    },
    "id": "bUT2oKV7S5eo",
    "outputId": "c6e9fafd-c7bb-4d26-ea3b-bee0097c8b1c"
   },
   "outputs": [
    {
     "name": "stdout",
     "output_type": "stream",
     "text": [
      "Number of nodes: 15460\n",
      "Number of edges: 1786463 \n",
      "\n",
      "auronplay is following to 7651 users\n",
      "josecristo_ is following to 345 users\n",
      "xXxTheFocuSxXx is following to 579 users\n",
      "Ampeterby7 is following to 1165 users\n",
      "javiDMr10 is following to 226 users\n",
      "gtv_genesis is following to 411 users\n",
      "Tanizen is following to 898 users\n",
      "Carola is following to 1421 users\n",
      "CooLifeGame is following to 1871 users\n",
      "Luzu is following to 1664 users\n",
      "ZormanWorld is following to 587 users\n"
     ]
    }
   ],
   "source": [
    "# checking the correctness of the graph\n",
    "print(\"Number of nodes:\", G.number_of_nodes())\n",
    "print(\"Number of edges:\", G.number_of_edges(), \"\\n\")\n",
    "for i, user in enumerate(G.degree()):\n",
    "  if i >10:\n",
    "    break\n",
    "  print(G.nodes[user[0]][\"name\"], \"is following to\", user[1], \"users\")"
   ]
  },
  {
   "cell_type": "code",
   "execution_count": 7,
   "metadata": {
    "id": "0Q7MJw8zPi7m"
   },
   "outputs": [],
   "source": [
    "# # another approach creating the graph from the exploded df (TODO: understand why the result is not equivalent)\n",
    "\n",
    "# df_streamers = pd.read_feather(\"data/streamers.feather\")\n",
    "# df_streamers.dropna(subset=['num_followers'],inplace=True)\n",
    "# edges = df_streamers.explode(\"user_follows\")[[\"id\",\"user_follows\"]]\n",
    "# edges = edges[edges[\"user_follows\"].isin(df_streamers.id)]\n",
    "\n",
    "# G = nx.from_pandas_edgelist(edges, 'id', 'user_follows')\n",
    "# for col_name in df_streamers.drop(['id', 'user_follows'], axis=1):\n",
    "#   nx.set_node_attributes(G, pd.Series(df_streamers[col_name], index=df_streamers[\"id\"]).to_dict(), col_name)\n",
    "\n",
    "# print(\"Number of nodes:\", G.number_of_nodes())\n",
    "# print(\"Number of edges:\", G.number_of_edges(), \"\\n\")\n",
    "# for i, user in enumerate(G.degree()):\n",
    "#   if i >10:\n",
    "#     break\n",
    "#   print(G.nodes[user[0]][\"name\"], \"is following to\", user[1], \"users\")\n"
   ]
  },
  {
   "cell_type": "markdown",
   "metadata": {
    "id": "IdSf4DP-WMJK"
   },
   "source": [
    "## Graph analysis: Fundamental metrics"
   ]
  },
  {
   "cell_type": "code",
   "execution_count": 8,
   "metadata": {
    "colab": {
     "base_uri": "https://localhost:8080/"
    },
    "id": "xEZAI6h0WOg-",
    "outputId": "7732c163-657d-4d78-8c01-ad07482e0984"
   },
   "outputs": [
    {
     "name": "stdout",
     "output_type": "stream",
     "text": [
      "\n",
      "indegree: {'83232866': 0.6508182935506824, '39276140': 0.5459602820363542, '459331509': 0.49214050067921594, '48878319': 0.40798240507147937, '36473331': 0.3053237596222265, '31919607': 0.2773141859111197, '512977322': 0.26476486189274856, '57793021': 0.23442654764215018, '123922797': 0.2291868814282942, '70357283': 0.22899281971666988}\n",
      "\n",
      "outdegree: {'42219929': 0.07671906332880522, '488187640': 0.06772753735687949, '562498092': 0.06546348405459602, '134196130': 0.06384630312439356, '134913602': 0.062164434956982983, '545338107': 0.061323500873277696, '513136957': 0.0611941263988615, '76491680': 0.06009444336632382, '142953848': 0.06002975612911572, '488395038': 0.05957694546865903}\n",
      "\n",
      "closeness: {'83232866': 0.7355616756504315, '39276140': 0.6811549588143192, '459331509': 0.6558279703099003, '48878319': 0.6190074031306253, '36473331': 0.575518958123038, '31919607': 0.5701023598820509, '512977322': 0.5610147166412464, '57793021': 0.5546902530351849, '123922797': 0.553841608469125, '121510236': 0.5484672210848965}\n",
      "\n",
      "betweenness: {'36473331': 0.015534657535809768, '567658286': 0.011995885358880026, '48878319': 0.01131012031366304, '113783835': 0.010158810224083019, '47939440': 0.009246137864748715, '123922797': 0.008822822312791573, '121510236': 0.008594899867121288, '39276140': 0.00802305290726593, '55347167': 0.007950633884818224, '83232866': 0.0075714550665487755}\n",
      "\n",
      "pagerank: {'83232866': 0.00810686767214479, '39276140': 0.005491513501934381, '459331509': 0.004500570038197832, '48878319': 0.0037419774248632284, '31919607': 0.0034083815818959882, '90075649': 0.002787179747339848, '22346597': 0.0026859528632480058, '36138196': 0.002545972693549101, '123922797': 0.0023991884125289767, '36473331': 0.002353719750494812}\n",
      "\n",
      "nx_cores: {'459331509': 267, '83232866': 267, '48878319': 267, '39276140': 267, '157658336': 267, '512977322': 267, '199811071': 267, '142932807': 267, '94851664': 267, '494026769': 267}\n"
     ]
    }
   ],
   "source": [
    "# compute fundamental metrics(or load if they'be been already computed)\n",
    "\n",
    "metrics = {\"indegree\":nx.in_degree_centrality, \"outdegree\":nx.out_degree_centrality, \"closeness\":nx.closeness_centrality, \n",
    "            \"betweenness\":nx.betweenness_centrality, \"pagerank\":nx.pagerank, \"nx_cores\":nx.algorithms.core.core_number}\n",
    "\n",
    "# create folder to save the metrics if needed\n",
    "folder_name = \"data/fundamental_metrics\"\n",
    "if not os.path.exists(folder_name):\n",
    "  os.mkdir(folder_name)\n",
    "\n",
    "for m in metrics:\n",
    "  file_name = f\"{folder_name}/{m}.pkl\"\n",
    "  if os.path.exists(file_name):\n",
    "    # load metric\n",
    "    with open(file_name, 'rb') as f:\n",
    "      metrics[m] = pickle.load(f)\n",
    "  else:\n",
    "    # compute metric\n",
    "    computed_metric = metrics[m](G)\n",
    "    # sort metric from highest to lowest\n",
    "    metrics[m] = dict(sorted(computed_metric.items(), key=lambda x: x[1],reverse=True))\n",
    "    # store metric\n",
    "    with open(file_name, 'wb') as f:\n",
    "        pickle.dump(metrics[m], f)\n",
    "  # display 10 first items of metric\n",
    "  print(f\"\\n{m}:\", dict(list(metrics[m].items())[:10]))\n"
   ]
  },
  {
   "cell_type": "code",
   "execution_count": 9,
   "metadata": {
    "colab": {
     "base_uri": "https://localhost:8080/",
     "height": 381
    },
    "id": "SckmhJUpbMiX",
    "outputId": "7667e378-8bdc-40e9-e0d8-fe305596c46a"
   },
   "outputs": [
    {
     "name": "stdout",
     "output_type": "stream",
     "text": [
      "Graph fundamental metrics:\n"
     ]
    },
    {
     "data": {
      "text/html": [
       "<div>\n",
       "<style scoped>\n",
       "    .dataframe tbody tr th:only-of-type {\n",
       "        vertical-align: middle;\n",
       "    }\n",
       "\n",
       "    .dataframe tbody tr th {\n",
       "        vertical-align: top;\n",
       "    }\n",
       "\n",
       "    .dataframe thead th {\n",
       "        text-align: right;\n",
       "    }\n",
       "</style>\n",
       "<table border=\"1\" class=\"dataframe\">\n",
       "  <thead>\n",
       "    <tr style=\"text-align: right;\">\n",
       "      <th></th>\n",
       "      <th>indegree</th>\n",
       "      <th>outdegree</th>\n",
       "      <th>closeness</th>\n",
       "      <th>betweenness</th>\n",
       "      <th>pagerank</th>\n",
       "      <th>nx_cores</th>\n",
       "    </tr>\n",
       "  </thead>\n",
       "  <tbody>\n",
       "    <tr>\n",
       "      <th>0</th>\n",
       "      <td>ibai</td>\n",
       "      <td>malaso</td>\n",
       "      <td>ibai</td>\n",
       "      <td>coscu</td>\n",
       "      <td>ibai</td>\n",
       "      <td>auronplay</td>\n",
       "    </tr>\n",
       "    <tr>\n",
       "      <th>1</th>\n",
       "      <td>Rubius</td>\n",
       "      <td>elcondu</td>\n",
       "      <td>Rubius</td>\n",
       "      <td>TELLIER50</td>\n",
       "      <td>Rubius</td>\n",
       "      <td>ibai</td>\n",
       "    </tr>\n",
       "    <tr>\n",
       "      <th>2</th>\n",
       "      <td>auronplay</td>\n",
       "      <td>Morita</td>\n",
       "      <td>auronplay</td>\n",
       "      <td>TheGrefg</td>\n",
       "      <td>auronplay</td>\n",
       "      <td>TheGrefg</td>\n",
       "    </tr>\n",
       "    <tr>\n",
       "      <th>3</th>\n",
       "      <td>TheGrefg</td>\n",
       "      <td>GuadaLibrandi</td>\n",
       "      <td>TheGrefg</td>\n",
       "      <td>Magi</td>\n",
       "      <td>TheGrefg</td>\n",
       "      <td>Rubius</td>\n",
       "    </tr>\n",
       "    <tr>\n",
       "      <th>4</th>\n",
       "      <td>coscu</td>\n",
       "      <td>CEDROLAA</td>\n",
       "      <td>coscu</td>\n",
       "      <td>DuendePablo</td>\n",
       "      <td>elxokas</td>\n",
       "      <td>ElSpreen</td>\n",
       "    </tr>\n",
       "    <tr>\n",
       "      <th>5</th>\n",
       "      <td>elxokas</td>\n",
       "      <td>dykahok</td>\n",
       "      <td>elxokas</td>\n",
       "      <td>IamCristinini</td>\n",
       "      <td>IlloJuan</td>\n",
       "      <td>SLAKUN10</td>\n",
       "    </tr>\n",
       "    <tr>\n",
       "      <th>6</th>\n",
       "      <td>SLAKUN10</td>\n",
       "      <td>helicopptero</td>\n",
       "      <td>SLAKUN10</td>\n",
       "      <td>juansguarnizo</td>\n",
       "      <td>LVPes</td>\n",
       "      <td>Robleis</td>\n",
       "    </tr>\n",
       "    <tr>\n",
       "      <th>7</th>\n",
       "      <td>LOLITOFDEZ</td>\n",
       "      <td>ramilueso</td>\n",
       "      <td>LOLITOFDEZ</td>\n",
       "      <td>Rubius</td>\n",
       "      <td>alexelcapo</td>\n",
       "      <td>iaaraS2</td>\n",
       "    </tr>\n",
       "    <tr>\n",
       "      <th>8</th>\n",
       "      <td>IamCristinini</td>\n",
       "      <td>joaquinpelaez</td>\n",
       "      <td>IamCristinini</td>\n",
       "      <td>Sibrel</td>\n",
       "      <td>IamCristinini</td>\n",
       "      <td>Agusbob</td>\n",
       "    </tr>\n",
       "    <tr>\n",
       "      <th>9</th>\n",
       "      <td>AriGameplays</td>\n",
       "      <td>Sebita</td>\n",
       "      <td>juansguarnizo</td>\n",
       "      <td>ibai</td>\n",
       "      <td>coscu</td>\n",
       "      <td>MarkitoNavaja</td>\n",
       "    </tr>\n",
       "  </tbody>\n",
       "</table>\n",
       "</div>"
      ],
      "text/plain": [
       "        indegree      outdegree      closeness    betweenness       pagerank  \\\n",
       "0           ibai         malaso           ibai          coscu           ibai   \n",
       "1         Rubius        elcondu         Rubius      TELLIER50         Rubius   \n",
       "2      auronplay         Morita      auronplay       TheGrefg      auronplay   \n",
       "3       TheGrefg  GuadaLibrandi       TheGrefg           Magi       TheGrefg   \n",
       "4          coscu       CEDROLAA          coscu    DuendePablo        elxokas   \n",
       "5        elxokas        dykahok        elxokas  IamCristinini       IlloJuan   \n",
       "6       SLAKUN10   helicopptero       SLAKUN10  juansguarnizo          LVPes   \n",
       "7     LOLITOFDEZ      ramilueso     LOLITOFDEZ         Rubius     alexelcapo   \n",
       "8  IamCristinini  joaquinpelaez  IamCristinini         Sibrel  IamCristinini   \n",
       "9   AriGameplays         Sebita  juansguarnizo           ibai          coscu   \n",
       "\n",
       "        nx_cores  \n",
       "0      auronplay  \n",
       "1           ibai  \n",
       "2       TheGrefg  \n",
       "3         Rubius  \n",
       "4       ElSpreen  \n",
       "5       SLAKUN10  \n",
       "6        Robleis  \n",
       "7        iaaraS2  \n",
       "8        Agusbob  \n",
       "9  MarkitoNavaja  "
      ]
     },
     "execution_count": 9,
     "metadata": {},
     "output_type": "execute_result"
    }
   ],
   "source": [
    "#obtain per each metric 10 nodes with the highest values\n",
    "df_ranking_metrics = pd.DataFrame()\n",
    "for m in metrics:\n",
    "  ranking10_ids = list(metrics[m].keys())[:10]\n",
    "  ranking10_names = [G.nodes[node_id][\"name\"] for node_id in ranking10_ids]\n",
    "  df_ranking_metrics[m] = ranking10_names\n",
    "print(\"Graph fundamental metrics:\")\n",
    "\n",
    "df_ranking_metrics"
   ]
  },
  {
   "cell_type": "code",
   "execution_count": 13,
   "metadata": {
    "colab": {
     "base_uri": "https://localhost:8080/"
    },
    "id": "QrbiDJKwZw4T",
    "outputId": "9f952ada-e6b6-42e3-93c7-8cdc5fd27a49"
   },
   "outputs": [
    {
     "name": "stdout",
     "output_type": "stream",
     "text": [
      "\n",
      "First 10 users with the cores given by NetworkX:\n",
      " {'459331509': 267, '83232866': 267, '48878319': 267, '39276140': 267, '157658336': 267, '512977322': 267, '199811071': 267, '142932807': 267, '94851664': 267, '494026769': 267}\n",
      "\n",
      "First 10 cores with their users associated:\n",
      " {0: {'468612220', '43781156'}, 1: {'724679930', '620773811'}, 2: {'149613744', '726605857'}, 3: {'442505580', '138218530', '721811548', '21673408', '439373923', '20619890'}, 4: {'61113472', '52962872', '605649930'}, 5: {'23555970', '689150831', '117637690', '236190404', '417505906', '455809385', '632828507', '97744631', '447417600', '43062679', '547377613', '500164492'}, 6: {'400033906', '670484955', '664056787', '99286454', '32698492', '43898453'}, 7: {'57336109', '66577316', '716049080', '156797648', '592914032', '568236442', '202442955', '612418652', '71595808', '112100325', '105915313', '610101640', '157898671', '42386491', '714653105', '98798251'}, 8: {'418106408', '97144135', '55480030', '162503630', '52611408', '164536475', '58432376', '564590769', '260072707', '105454506', '121561576', '574859647', '80915568'}, 9: {'23391469', '184125792', '85621060', '177296909', '429771726', '89206180', '211174340', '45597067', '66789297', '462900446', '46651482', '147031384', '43126276', '147089687', '555478752', '724386751', '44034097'}}\n",
      "\n",
      "The highest core number is 267\n",
      "( random users that have the highest core are:\n",
      "Juanchoo7, Gasparrancio, imviolette_, Cuervo, nazalazcoz, Adricach, TANITOK, Escaracho, elprincipexx, lautiNS, Tizi, robergalati, Ler0v, FranTeton, RoccoPaella, Agusbob, mirkong1, coscu, 51dun, juanmiitaaa, Neczo_, ElTooka, ColoDalboni, BestorVD, Gozer_6, Correntinooo, LoboFz, Robleis, gastilorenti, Kweezy, ciendi, AbrilMarcelli_, GuadaLibrandi, argentovlogs, Bazantii, bautiagnone, lajefaok, Niikkelx, Maachete, nahuloren, shaggyveneno, LaPinky, Manueltn1, agostorchelli, ffransa, LuchiQuinteros, CEDROLAA, Frankkaster, juanzxx, TELLIER50, "
     ]
    }
   ],
   "source": [
    "# compute k-core descomposition\n",
    "nx_cores = metrics[\"nx_cores\"]\n",
    "print(\"\\nFirst 10 users with the cores given by NetworkX:\\n\", dict(list(nx_cores.items())[:10]))\n",
    "\n",
    "# reformat NetworkX solution\n",
    "nx_cores_format = {c:set() for c in set(nx_cores.values())}\n",
    "for node in nx_cores:\n",
    "  nx_cores_format[nx_cores[node]].add(node)\n",
    "print(\"\\nFirst 10 cores with their users associated:\\n\", dict(list(nx_cores_format.items())[:10]))\n",
    "\n",
    "highest_core = list(nx_cores.values())[0]\n",
    "print(\"\\nThe highest core number is\", highest_core)\n",
    "print(\"\\50 random users that have the highest core are:\")\n",
    "users_highset_core = []\n",
    "for node_id in list(nx_cores_format[highest_core])[:50]:\n",
    "  user_name = G.nodes[node_id][\"name\"]\n",
    "  users_highset_core.append(user_name)\n",
    "  print(user_name, end=\", \")"
   ]
  },
  {
   "cell_type": "code",
   "execution_count": 21,
   "metadata": {},
   "outputs": [
    {
     "name": "stdout",
     "output_type": "stream",
     "text": [
      "The 10  most frequent users in the rankings of the previous metrics (ordered by freq) are:\n",
      "ibai, Rubius, TheGrefg, auronplay, coscu, IamCristinini, elxokas, SLAKUN10, LOLITOFDEZ, juansguarnizo, AriGameplays\n",
      "\n",
      "\n",
      "Previous users ordered by core number:\n",
      "\n",
      "With core number 267:\n",
      "TheGrefg, coscu, Rubius, SLAKUN10, auronplay, ibai\n",
      "\n",
      "With core number 262:\n",
      "IamCristinini\n",
      "\n",
      "With core number 260:\n",
      "LOLITOFDEZ\n",
      "\n",
      "With core number 251:\n",
      "elxokas, AriGameplays\n",
      "\n",
      "With core number 237:\n",
      "juansguarnizo\n"
     ]
    },
    {
     "data": {
      "text/plain": [
       "([<matplotlib.patches.Wedge at 0x7f730d731350>,\n",
       "  <matplotlib.patches.Wedge at 0x7f730d731d10>,\n",
       "  <matplotlib.patches.Wedge at 0x7f730d73c4d0>,\n",
       "  <matplotlib.patches.Wedge at 0x7f730d73cd90>,\n",
       "  <matplotlib.patches.Wedge at 0x7f730d7486d0>],\n",
       " [Text(-1.0888035780743386, -0.1565463777048765, '267'),\n",
       "  Text(0.5947050015941456, -0.9253788203103135, '262'),\n",
       "  Text(1.0005952532309026, -0.45695638655323106, '260'),\n",
       "  Text(1.0005951248808298, 0.4569566676006785, '251'),\n",
       "  Text(0.309905623873715, 1.0554423263691122, '237')],\n",
       " [Text(-0.593892860767821, -0.085388933293569, '54.5%'),\n",
       "  Text(0.32438454632407937, -0.5047520838056254, '9.1%'),\n",
       "  Text(0.5457792290350377, -0.2492489381199442, '9.1%'),\n",
       "  Text(0.545779159025907, 0.24924909141855187, '18.2%'),\n",
       "  Text(0.16903943120384451, 0.5756958143831521, '9.1%')])"
      ]
     },
     "execution_count": 21,
     "metadata": {},
     "output_type": "execute_result"
    },
    {
     "data": {
      "image/png": "[encoded data removed]",
      "text/plain": [
       "<Figure size 432x288 with 1 Axes>"
      ]
     },
     "metadata": {},
     "output_type": "display_data"
    }
   ],
   "source": [
    "# order the imporant users (according to fundamental metrics) by core number\n",
    "important_users_names = collections.Counter()\n",
    "for m in df_ranking_metrics.drop(\"outdegree\", axis=1):\n",
    "  for user_name in df_ranking_metrics[m]:\n",
    "    important_users_names.update([user_name,])\n",
    "# order counter\n",
    "print(\"The 10  most frequent users in the rankings of the previous metrics (ordered by freq) are:\")\n",
    "important_users_names = [i[0] for i in important_users_names.most_common()][:11]\n",
    "print(\", \".join(important_users_names))\n",
    "# extract ids from important users\n",
    "important_users_ids = list(df[df[\"name\"].isin(important_users_names)][\"id\"])\n",
    "\n",
    "important_users_cores = { user_id: nx_cores[user_id] for user_id in important_users_ids}\n",
    "# reformat NetworkX solution\n",
    "important_users_cores_format = {c:set() for c in set(important_users_cores.values())}\n",
    "for node in important_users_cores:\n",
    "  important_users_cores_format[important_users_cores[node]].add(node)\n",
    "important_users_cores_format = dict(sorted(important_users_cores_format.items(), key=lambda x: x[0],reverse=True))\n",
    "\n",
    "n_important_users = len(important_users_ids)\n",
    "cores = []\n",
    "percentage_cores = []\n",
    "print(\"\\n\\nPrevious users ordered by core number:\")\n",
    "for core in important_users_cores_format:\n",
    "  cores.append(core)\n",
    "  users_in_core = [G.nodes[node_id][\"name\"] for node_id in important_users_cores_format[core]]\n",
    "  percentage_cores.append(len(users_in_core)/n_important_users)\n",
    "  print(f\"\\nWith core number {core}:\")\n",
    "  print(\", \".join([G.nodes[node_id][\"name\"] for node_id in important_users_cores_format[core]]))\n",
    "\n",
    "plt.title(\"K-Core Decomposition in 10 top users\")\n",
    "plt.pie(percentage_cores, labels=list(important_users_cores_format.keys()), autopct='%1.1f%%',\n",
    "        startangle=90)\n",
    "\n",
    "# plt.show()\n",
    "# plt.plot(np.arange(len(nx_cores_format.keys())), [len(i) for i in nx_cores_format.values()])\n",
    "# plt.xlabel('Cores')\n",
    "# plt.ylabel('Number of streamers')\n",
    "# plt.title('Programming language usage')\n"
   ]
  },
  {
   "cell_type": "code",
   "execution_count": 29,
   "metadata": {
    "colab": {
     "base_uri": "https://localhost:8080/"
    },
    "id": "zCaAAIPjawCb",
    "outputId": "3acf3daf-0028-45ef-a8ac-f891c656bdb8"
   },
   "outputs": [
    {
     "name": "stdout",
     "output_type": "stream",
     "text": [
      "The users that appear one or more times in the rankings of the previous metrics are:\n",
      "elxokas, AriGameplays, TELLIER50, alexelcapo, IamCristinini, TheGrefg, Magi, LOLITOFDEZ, ibai, juansguarnizo, DuendePablo, IlloJuan, coscu, LVPes, Sibrel, SLAKUN10, auronplay, Rubius\n",
      "\n",
      "\n",
      "Previous users ordered by core number:\n",
      "\n",
      "With core number 267:\n",
      "TheGrefg, auronplay, DuendePablo, SLAKUN10, Rubius, ibai, coscu, TELLIER50\n",
      "\n",
      "With core number 262:\n",
      "IamCristinini\n",
      "\n",
      "With core number 260:\n",
      "LOLITOFDEZ\n",
      "\n",
      "With core number 251:\n",
      "AriGameplays, elxokas\n",
      "\n",
      "With core number 237:\n",
      "juansguarnizo\n",
      "\n",
      "With core number 223:\n",
      "LVPes\n",
      "\n",
      "With core number 207:\n",
      "alexelcapo\n",
      "\n",
      "With core number 188:\n",
      "IlloJuan\n",
      "\n",
      "With core number 166:\n",
      "Sibrel\n",
      "\n",
      "With core number 164:\n",
      "Magi\n"
     ]
    }
   ],
   "source": [
    "# order the imporant users (according to fundamental metrics) by core number\n",
    "important_users_names = set()\n",
    "for m in df_ranking_metrics.drop(\"outdegree\", axis=1):\n",
    "  for user_name in df_ranking_metrics[m]:\n",
    "    important_users_names.add(user_name)\n",
    "print(\"The users that appear one or more times in the rankings of the previous metrics are:\")\n",
    "print(\", \".join(important_users_names))\n",
    "# extract ids from important users\n",
    "important_users_ids = list(df[df[\"name\"].isin(important_users_names)][\"id\"])\n",
    "\n",
    "important_users_cores = { user_id: nx_cores[user_id] for user_id in important_users_ids}\n",
    "# reformat NetworkX solution\n",
    "important_users_cores_format = {c:set() for c in set(important_users_cores.values())}\n",
    "for node in important_users_cores:\n",
    "  important_users_cores_format[important_users_cores[node]].add(node)\n",
    "important_users_cores_format = dict(sorted(important_users_cores_format.items(), key=lambda x: x[0],reverse=True))\n",
    "\n",
    "print(\"\\n\\nPrevious users ordered by core number:\")\n",
    "for core in important_users_cores_format:\n",
    "  print(f\"\\nWith core number {core}:\")\n",
    "  print(\", \".join([G.nodes[node_id][\"name\"] for node_id in important_users_cores_format[core]]))"
   ]
  },
  {
   "cell_type": "code",
   "execution_count": 12,
   "metadata": {
    "colab": {
     "base_uri": "https://localhost:8080/"
    },
    "id": "Qqv_OBVNldHd",
    "outputId": "e89776bf-d386-4ee3-bd8c-cda9161a5d2f"
   },
   "outputs": [
    {
     "name": "stdout",
     "output_type": "stream",
     "text": [
      "Enter the name of the user: DavimenXPro\n",
      "Position on pagerank of DavimenXPro: 15412 of 15460\n"
     ]
    }
   ],
   "source": [
    "# compute the position in pagerank for an especific user\n",
    "streamer_name = input(\"Enter the name of the user: \") # e.g. DavimenXPro\n",
    "streamer_id = str(int(df.loc[df[\"name\"]==streamer_name][\"id\"]))\n",
    "position = list(metrics[\"pagerank\"].keys()).index(streamer_id)\n",
    "\n",
    "print(f\"Position on pagerank of {streamer_name}: {position+1} of {len(df)}\")"
   ]
  },
  {
   "cell_type": "markdown",
   "metadata": {
    "id": "WieDk62TjGlL"
   },
   "source": [
    "## Graph analysis: Community detection"
   ]
  },
  {
   "cell_type": "code",
   "execution_count": 22,
   "metadata": {
    "colab": {
     "base_uri": "https://localhost:8080/"
    },
    "id": "wy54d3Qsf8va",
    "outputId": "5954f52e-5f02-4f42-c1a7-b3dd5fd14791"
   },
   "outputs": [
    {
     "name": "stdout",
     "output_type": "stream",
     "text": [
      "Time of execution: 50.67910838127136\n",
      "Modularity: 0.4553548316094837\n"
     ]
    }
   ],
   "source": [
    "# compute communities with louvain method considering the directed graph as undirected\n",
    "G_undirected = nx.Graph(G)\n",
    "# compute communities\n",
    "start = time.time()\n",
    "communities_unformat = community_louvain.best_partition(G_undirected)\n",
    "end = time.time()\n",
    "# transform communities into appropiate format if necessary\n",
    "communities = [set() for i in range(len(set(communities_unformat.values())))]\n",
    "for c in communities_unformat:\n",
    "  communities[communities_unformat[c]].add(c)\n",
    "# compute modularity\n",
    "modularity = community.modularity(G_undirected,communities)\n",
    "\n",
    "print(\"Time of execution:\", end-start)\n",
    "print(\"Modularity:\",modularity)"
   ]
  },
  {
   "cell_type": "code",
   "execution_count": null,
   "metadata": {
    "id": "ey2dJLBOixVo"
   },
   "outputs": [],
   "source": []
  }
 ],
 "metadata": {
  "colab": {
   "collapsed_sections": [],
   "name": "quique_df2networkx.ipynb",
   "provenance": []
  },
  "kernelspec": {
   "display_name": "Python 3 (ipykernel)",
   "language": "python",
   "name": "python3"
  },
  "language_info": {
   "codemirror_mode": {
    "name": "ipython",
    "version": 3
   },
   "file_extension": ".py",
   "mimetype": "text/x-python",
   "name": "python",
   "nbconvert_exporter": "python",
   "pygments_lexer": "ipython3",
   "version": "3.7.11"
  }
 },
 "nbformat": 4,
 "nbformat_minor": 1
}
