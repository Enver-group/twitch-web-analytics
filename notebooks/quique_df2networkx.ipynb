{
 "cells": [
  {
   "cell_type": "code",
   "execution_count": 1,
   "metadata": {
    "id": "shJ3NL0xrPeB"
   },
   "outputs": [],
   "source": [
    "import os\n",
    "import numpy as np\n",
    "import pandas as pd\n",
    "import matplotlib.pyplot as plt\n",
    "import networkx as nx\n",
    "import pickle"
   ]
  },
  {
   "cell_type": "code",
   "execution_count": 2,
   "metadata": {
    "id": "MrmZMxNgquPX"
   },
   "outputs": [],
   "source": [
    "%%capture\n",
    "\n",
    "# check if this is a colab notebook and clone the repo if it is\n",
    "if 'COLAB_GPU' in os.environ:\n",
    "    %cd /content/\n",
    "    !git clone https://github.com/Enver-group/twitch-web-analytics\n",
    "    %cd twitch-web-analytics\n",
    "    !gdown --id 11IfXaA66-D7vjA2R46uAilBgOPxYmKmn\n",
    "else:\n",
    "    os.chdir('..')\n",
    "\n",
    "!pip install -r requirements.txt\n",
    "\n",
    "!pip install -e ."
   ]
  },
  {
   "cell_type": "code",
   "execution_count": 3,
   "metadata": {
    "id": "CSjLcWjyq1dJ"
   },
   "outputs": [],
   "source": [
    "#autoreload modules\n",
    "%load_ext autoreload\n",
    "%autoreload 2\n",
    "\n",
    "from src.user import User"
   ]
  },
  {
   "cell_type": "code",
   "execution_count": 4,
   "metadata": {
    "colab": {
     "base_uri": "https://localhost:8080/"
    },
    "id": "MQ3Ad0HM0wBr",
    "outputId": "1709da58-ef2a-4d3f-fbd2-80c8334d04db"
   },
   "outputs": [
    {
     "name": "stdout",
     "output_type": "stream",
     "text": [
      "81217 users have been removed for having null data in num_followers\n",
      "74310 users have been removed from the arrays in 'user_follows'\n",
      "122 users don't follow to any user after applying the previous filters\n"
     ]
    }
   ],
   "source": [
    "df = pd.read_feather(\"data/streamers.feather\")\n",
    "\n",
    "#TODO: put this cell in the code that generates the dataframe\n",
    "\n",
    "# removing users that have no data about which users they follow\n",
    "num_users = df.shape[0]\n",
    "df.dropna(subset=['num_followers'],inplace=True)\n",
    "print(num_users - df.shape[0], \"users have been removed for having null data in num_followers\")\n",
    "\n",
    "# remove from each array with users followed (the arrays that are in 'user_follows') the users that are not in the dataset\n",
    "df_streamers_exploded = df.explode(\"user_follows\")\n",
    "num_users_followed = len(df_streamers_exploded[\"user_follows\"].unique())\n",
    "df_streamers_exploded = df_streamers_exploded[df_streamers_exploded[\"user_follows\"].isin(df.id)]\n",
    "print(num_users_followed - len(df_streamers_exploded[\"user_follows\"].unique()), \"users have been removed from the arrays in 'user_follows'\")\n",
    "user_follows_arrays = df_streamers_exploded.groupby(\"id\").user_follows.apply(np.array).reset_index()\n",
    "df = df.set_index(\"id\")\n",
    "df.loc[user_follows_arrays.id,\"user_follows\"] = user_follows_arrays.user_follows.values\n",
    "# assign empty arrays to the users removed for not following any user of the dataset\n",
    "not_in_set_or_null = ~df.index.isin(user_follows_arrays.id)\n",
    "df.loc[not_in_set_or_null,\"user_follows\"] =  pd.Series([[]]*not_in_set_or_null.sum()).values\n",
    "df.reset_index(level=0, inplace=True)\n",
    "print(not_in_set_or_null.sum(), \"users don't follow to any user after applying the previous filters\")\n"
   ]
  },
  {
   "cell_type": "code",
   "execution_count": 5,
   "metadata": {
    "id": "0lNfmO8I0o62"
   },
   "outputs": [],
   "source": [
    "# converting the df into a graph\n",
    "G = nx.DiGraph()\n",
    "for i,user in df.iterrows():\n",
    "  G.add_node(user[\"id\"], **user.drop([\"id\",\"user_follows\"]))\n",
    "  if isinstance(user[\"user_follows\"], np.ndarray):\n",
    "    G.add_edges_from([(user[\"id\"], id_followed) for id_followed in user[\"user_follows\"]]) "
   ]
  },
  {
   "cell_type": "code",
   "execution_count": 6,
   "metadata": {
    "colab": {
     "base_uri": "https://localhost:8080/"
    },
    "id": "bUT2oKV7S5eo",
    "outputId": "f3dcf0b6-63e4-45a5-a614-1d0a17112489"
   },
   "outputs": [
    {
     "name": "stdout",
     "output_type": "stream",
     "text": [
      "Number of nodes: 15460\n",
      "Number of edges: 1786463 \n",
      "\n",
      "auronplay is following to 7651 users\n",
      "josecristo_ is following to 345 users\n",
      "xXxTheFocuSxXx is following to 579 users\n",
      "Ampeterby7 is following to 1165 users\n",
      "javiDMr10 is following to 226 users\n",
      "gtv_genesis is following to 411 users\n",
      "Tanizen is following to 898 users\n",
      "Carola is following to 1421 users\n",
      "CooLifeGame is following to 1871 users\n",
      "Luzu is following to 1664 users\n",
      "ZormanWorld is following to 587 users\n"
     ]
    }
   ],
   "source": [
    "# checking the correctness of the graph\n",
    "print(\"Number of nodes:\", G.number_of_nodes())\n",
    "print(\"Number of edges:\", G.number_of_edges(), \"\\n\")\n",
    "for i, user in enumerate(G.degree()):\n",
    "  if i >10:\n",
    "    break\n",
    "  print(G.nodes[user[0]][\"name\"], \"is following to\", user[1], \"users\")"
   ]
  },
  {
   "cell_type": "code",
   "execution_count": 7,
   "metadata": {
    "id": "0Q7MJw8zPi7m"
   },
   "outputs": [],
   "source": [
    "# # another approach creating the graph from the exploded df (TODO: understand why the result is not equivalent)\n",
    "\n",
    "# df_streamers = pd.read_feather(\"data/streamers.feather\")\n",
    "# df_streamers.dropna(subset=['num_followers'],inplace=True)\n",
    "# edges = df_streamers.explode(\"user_follows\")[[\"id\",\"user_follows\"]]\n",
    "# edges = edges[edges[\"user_follows\"].isin(df_streamers.id)]\n",
    "\n",
    "# G = nx.from_pandas_edgelist(edges, 'id', 'user_follows')\n",
    "# for col_name in df_streamers.drop(['id', 'user_follows'], axis=1):\n",
    "#   nx.set_node_attributes(G, pd.Series(df_streamers[col_name], index=df_streamers[\"id\"]).to_dict(), col_name)\n",
    "\n",
    "# print(\"Number of nodes:\", G.number_of_nodes())\n",
    "# print(\"Number of edges:\", G.number_of_edges(), \"\\n\")\n",
    "# for i, user in enumerate(G.degree()):\n",
    "#   if i >10:\n",
    "#     break\n",
    "#   print(G.nodes[user[0]][\"name\"], \"is following to\", user[1], \"users\")\n"
   ]
  },
  {
   "cell_type": "markdown",
   "metadata": {
    "id": "IdSf4DP-WMJK"
   },
   "source": [
    "## Graph analysis"
   ]
  },
  {
   "cell_type": "code",
   "execution_count": 8,
   "metadata": {
    "colab": {
     "base_uri": "https://localhost:8080/"
    },
    "id": "xEZAI6h0WOg-",
    "outputId": "e6c8f832-c19d-4a04-b10d-aa269c32131b"
   },
   "outputs": [
    {
     "name": "stdout",
     "output_type": "stream",
     "text": [
      "\n",
      "indegree: {'83232866': 0.6508182935506824, '39276140': 0.5459602820363542, '459331509': 0.49214050067921594, '48878319': 0.40798240507147937, '36473331': 0.3053237596222265, '31919607': 0.2773141859111197, '512977322': 0.26476486189274856, '57793021': 0.23442654764215018, '123922797': 0.2291868814282942, '70357283': 0.22899281971666988}\n",
      "\n",
      "outdegree: {'42219929': 0.07671906332880522, '488187640': 0.06772753735687949, '562498092': 0.06546348405459602, '134196130': 0.06384630312439356, '134913602': 0.062164434956982983, '545338107': 0.061323500873277696, '513136957': 0.0611941263988615, '76491680': 0.06009444336632382, '142953848': 0.06002975612911572, '488395038': 0.05957694546865903}\n",
      "\n",
      "closeness: {'83232866': 0.7355616756504315, '39276140': 0.6811549588143192, '459331509': 0.6558279703099003, '48878319': 0.6190074031306253, '36473331': 0.575518958123038, '31919607': 0.5701023598820509, '512977322': 0.5610147166412464, '57793021': 0.5546902530351849, '123922797': 0.553841608469125, '121510236': 0.5484672210848965}\n",
      "\n",
      "betweenness: {'36473331': 0.015534657535809768, '567658286': 0.011995885358880026, '48878319': 0.01131012031366304, '113783835': 0.010158810224083019, '47939440': 0.009246137864748715, '123922797': 0.008822822312791573, '121510236': 0.008594899867121288, '39276140': 0.00802305290726593, '55347167': 0.007950633884818224, '83232866': 0.0075714550665487755}\n",
      "\n",
      "pagerank: {'83232866': 0.00810686767214479, '39276140': 0.005491513501934381, '459331509': 0.004500570038197832, '48878319': 0.0037419774248632284, '31919607': 0.0034083815818959882, '90075649': 0.002787179747339848, '22346597': 0.0026859528632480058, '36138196': 0.002545972693549101, '123922797': 0.0023991884125289767, '36473331': 0.002353719750494812}\n"
     ]
    }
   ],
   "source": [
    "# compute fundamental metrics(or load if they'be been already computed)\n",
    "\n",
    "metrics = {\"indegree\":nx.in_degree_centrality, \"outdegree\":nx.out_degree_centrality, \"closeness\":nx.closeness_centrality, \n",
    "            \"betweenness\":nx.betweenness_centrality, \"pagerank\":nx.pagerank}\n",
    "\n",
    "# create folder to save the metrics if needed\n",
    "folder_name = \"data/fundamental_metrics\"\n",
    "if not os.path.exists(folder_name):\n",
    "  os.mkdir(folder_name)\n",
    "\n",
    "for m in metrics:\n",
    "  file_name = f\"{folder_name}/{m}.pkl\"\n",
    "  if os.path.exists(file_name):\n",
    "    # load metric\n",
    "    with open(file_name, 'rb') as f:\n",
    "      metrics[m] = pickle.load(f)\n",
    "  else:\n",
    "    # compute metric\n",
    "    computed_metric = metrics[m](G)\n",
    "    # sort metric from highest to lowest\n",
    "    metrics[m] = dict(sorted(computed_metric.items(), key=lambda x: x[1],reverse=True))\n",
    "    # store metric\n",
    "    with open(file_name, 'wb') as f:\n",
    "        pickle.dump(metrics[m], f)\n",
    "  # display 10 first items of metric\n",
    "  print(f\"\\n{m}:\", dict(list(metrics[m].items())[:10]))\n"
   ]
  },
  {
   "cell_type": "code",
   "execution_count": 9,
   "metadata": {
    "colab": {
     "base_uri": "https://localhost:8080/",
     "height": 381
    },
    "id": "SckmhJUpbMiX",
    "outputId": "597b0854-536f-4759-a2b2-c22e072947da"
   },
   "outputs": [
    {
     "name": "stdout",
     "output_type": "stream",
     "text": [
      "Graph fundamental metrics:\n"
     ]
    },
    {
     "data": {
      "text/html": [
       "<div>\n",
       "<style scoped>\n",
       "    .dataframe tbody tr th:only-of-type {\n",
       "        vertical-align: middle;\n",
       "    }\n",
       "\n",
       "    .dataframe tbody tr th {\n",
       "        vertical-align: top;\n",
       "    }\n",
       "\n",
       "    .dataframe thead th {\n",
       "        text-align: right;\n",
       "    }\n",
       "</style>\n",
       "<table border=\"1\" class=\"dataframe\">\n",
       "  <thead>\n",
       "    <tr style=\"text-align: right;\">\n",
       "      <th></th>\n",
       "      <th>indegree</th>\n",
       "      <th>outdegree</th>\n",
       "      <th>closeness</th>\n",
       "      <th>betweenness</th>\n",
       "      <th>pagerank</th>\n",
       "    </tr>\n",
       "  </thead>\n",
       "  <tbody>\n",
       "    <tr>\n",
       "      <th>0</th>\n",
       "      <td>ibai</td>\n",
       "      <td>malaso</td>\n",
       "      <td>ibai</td>\n",
       "      <td>coscu</td>\n",
       "      <td>ibai</td>\n",
       "    </tr>\n",
       "    <tr>\n",
       "      <th>1</th>\n",
       "      <td>Rubius</td>\n",
       "      <td>elcondu</td>\n",
       "      <td>Rubius</td>\n",
       "      <td>TELLIER50</td>\n",
       "      <td>Rubius</td>\n",
       "    </tr>\n",
       "    <tr>\n",
       "      <th>2</th>\n",
       "      <td>auronplay</td>\n",
       "      <td>Morita</td>\n",
       "      <td>auronplay</td>\n",
       "      <td>TheGrefg</td>\n",
       "      <td>auronplay</td>\n",
       "    </tr>\n",
       "    <tr>\n",
       "      <th>3</th>\n",
       "      <td>TheGrefg</td>\n",
       "      <td>GuadaLibrandi</td>\n",
       "      <td>TheGrefg</td>\n",
       "      <td>Magi</td>\n",
       "      <td>TheGrefg</td>\n",
       "    </tr>\n",
       "    <tr>\n",
       "      <th>4</th>\n",
       "      <td>coscu</td>\n",
       "      <td>CEDROLAA</td>\n",
       "      <td>coscu</td>\n",
       "      <td>DuendePablo</td>\n",
       "      <td>elxokas</td>\n",
       "    </tr>\n",
       "    <tr>\n",
       "      <th>5</th>\n",
       "      <td>elxokas</td>\n",
       "      <td>dykahok</td>\n",
       "      <td>elxokas</td>\n",
       "      <td>IamCristinini</td>\n",
       "      <td>IlloJuan</td>\n",
       "    </tr>\n",
       "    <tr>\n",
       "      <th>6</th>\n",
       "      <td>SLAKUN10</td>\n",
       "      <td>helicopptero</td>\n",
       "      <td>SLAKUN10</td>\n",
       "      <td>juansguarnizo</td>\n",
       "      <td>LVPes</td>\n",
       "    </tr>\n",
       "    <tr>\n",
       "      <th>7</th>\n",
       "      <td>LOLITOFDEZ</td>\n",
       "      <td>ramilueso</td>\n",
       "      <td>LOLITOFDEZ</td>\n",
       "      <td>Rubius</td>\n",
       "      <td>alexelcapo</td>\n",
       "    </tr>\n",
       "    <tr>\n",
       "      <th>8</th>\n",
       "      <td>IamCristinini</td>\n",
       "      <td>joaquinpelaez</td>\n",
       "      <td>IamCristinini</td>\n",
       "      <td>Sibrel</td>\n",
       "      <td>IamCristinini</td>\n",
       "    </tr>\n",
       "    <tr>\n",
       "      <th>9</th>\n",
       "      <td>AriGameplays</td>\n",
       "      <td>Sebita</td>\n",
       "      <td>juansguarnizo</td>\n",
       "      <td>ibai</td>\n",
       "      <td>coscu</td>\n",
       "    </tr>\n",
       "  </tbody>\n",
       "</table>\n",
       "</div>"
      ],
      "text/plain": [
       "        indegree      outdegree      closeness    betweenness       pagerank\n",
       "0           ibai         malaso           ibai          coscu           ibai\n",
       "1         Rubius        elcondu         Rubius      TELLIER50         Rubius\n",
       "2      auronplay         Morita      auronplay       TheGrefg      auronplay\n",
       "3       TheGrefg  GuadaLibrandi       TheGrefg           Magi       TheGrefg\n",
       "4          coscu       CEDROLAA          coscu    DuendePablo        elxokas\n",
       "5        elxokas        dykahok        elxokas  IamCristinini       IlloJuan\n",
       "6       SLAKUN10   helicopptero       SLAKUN10  juansguarnizo          LVPes\n",
       "7     LOLITOFDEZ      ramilueso     LOLITOFDEZ         Rubius     alexelcapo\n",
       "8  IamCristinini  joaquinpelaez  IamCristinini         Sibrel  IamCristinini\n",
       "9   AriGameplays         Sebita  juansguarnizo           ibai          coscu"
      ]
     },
     "execution_count": 9,
     "metadata": {},
     "output_type": "execute_result"
    }
   ],
   "source": [
    "#obtain per each metric 10 nodes with the highest values\n",
    "df_ranking_metrics = pd.DataFrame()\n",
    "for m in metrics:\n",
    "  ranking10_ids = list(metrics[m].keys())[:10]\n",
    "  ranking10_names = [G.nodes[node_id][\"name\"] for node_id in ranking10_ids]\n",
    "  df_ranking_metrics[m] = ranking10_names\n",
    "print(\"Graph fundamental metrics:\")\n",
    "\n",
    "df_ranking_metrics"
   ]
  },
  {
   "cell_type": "code",
   "execution_count": 10,
   "metadata": {
    "colab": {
     "base_uri": "https://localhost:8080/"
    },
    "id": "QrbiDJKwZw4T",
    "outputId": "556e66d4-fa8c-4970-cc84-f4acfdf0e059"
   },
   "outputs": [
    {
     "name": "stdout",
     "output_type": "stream",
     "text": [
      "\n",
      "First 10 users with the cores given by NetworkX:\n",
      " {'459331509': 267, '210708721': 165, '431460701': 165, '77649106': 195, '130065491': 146, '427412996': 166, '40299581': 168, '110405254': 175, '42814514': 182, '66370849': 219}\n",
      "\n",
      "First 10 cores with their users associated:\n",
      " {0: {'468612220', '43781156'}, 1: {'620773811', '724679930'}, 2: {'726605857', '149613744'}, 3: {'439373923', '721811548', '21673408', '442505580', '20619890', '138218530'}, 4: {'61113472', '605649930', '52962872'}, 5: {'632828507', '97744631', '547377613', '236190404', '689150831', '500164492', '43062679', '447417600', '417505906', '455809385', '117637690', '23555970'}, 6: {'400033906', '32698492', '664056787', '43898453', '99286454', '670484955'}, 7: {'112100325', '714653105', '98798251', '157898671', '202442955', '156797648', '66577316', '612418652', '716049080', '57336109', '42386491', '568236442', '71595808', '610101640', '105915313', '592914032'}, 8: {'55480030', '80915568', '52611408', '105454506', '121561576', '164536475', '260072707', '58432376', '574859647', '162503630', '97144135', '564590769', '418106408'}, 9: {'43126276', '85621060', '66789297', '46651482', '44034097', '23391469', '462900446', '177296909', '724386751', '147031384', '89206180', '211174340', '147089687', '45597067', '184125792', '429771726', '555478752'}}\n",
      "\n",
      "The highest core number is 267\n",
      "\n",
      "The users that have the highest core are:\n",
      "Baaigo, Tizi, montaa16, LeandroRiccio, Tanovich, Chabon, tomi_bpok, SantiHerzfeld, 9zTeam, lepo, chocoluli, NiicoGuerrero, elneizi, HarryAlexOk, ValenBatt, AbrilMarcelli_, FrancoBertello74, rociovpz, Chuncano, eltinchoacua, Gozer_6, forg1, Vaquiita, ValenPrandi, Zeronmami, mechatw, Navajas_Barbershop, moli, elnash_, Ovn1, luuwia_, KHAMMA, LauriGiecoo, Palermo, ffleitax, Yutty, erivillalva, Morita, Centu, Naranjuju, kevinariass, sssofiiiiii, Matlod, juanzxx, okyyy, Santiclb, RenaPereyra, tinchobaa, LITkillah, camilitaferr, Fiireh, telmoliveshow, iDamFox, MDS_ALRITMO, coltaoficial, Taffitaa, Luli_Alarcon, ADELSEL, fabricioogas, el_welke, quinteros3, jjuandamoli, djlauuh, lflaco, CatiAngeline, SILVENG, Carreraaa, MatuteSureda, Bananirou, elpibecs1, bautiagnone, p0me, joacogambra, PablitoRan, iaaraS2, sektorlag, NothingNoname, GuadaMaiti, guagliaaaa, Kweezy, pastelitto, MatiNoli_, bertiaka, Pedro, valenpolero, LaSosoo, Javi_mda, santieng, GuilleGiles, Frankkaster, tuteanoo, Sanemaa, Matifortellii, shainaprrr, Laporteee, PatrySpace, conitohelado, chikiwh, EndKu, MirkoSG, xRomaaa, Adricach, lajefaok, MaiGramajo, Mago, martuboden, Gusti159, Dixenn, JujoGarcia, Ttino1, AleQuiintero, ElTooka, grafo, AyluLo, Lacha21, zainita, strakatv, NanoVisual, Morocho, SimonaCHok, LuchiQuinteros, JuliManzotti, Shulkka, DAMISALVAA, tomivitolaa, fededas, Nilkowiz, joaquinpelaez, PeterSSL, LolitoLp, agostorchelli, jjoellima, SanMora, Tattti_, klamah, PECET0, Tatunino, sofiariaas_, LautA, iTrack, totisued, Sebita, violetitaah, Niro, Conejitou, frnkitoo, tomivillarok, SKAGAWA, eldemente, rayitoo, CEDROLAA, Agruck, salvit4, ibai, zarekzk, lapequeok, MarPalacioss, VAGIU, nazalazcoz, Pimpeano, ValennDiSalvo, caninARG, SNEUX, el_sansoo, Axelisho, Guady5, BAUTLSTAA, jjjjoaco, axIito, RenaMartino, SofiFz, zurjuan, Aguzzztina, thiagosht7, GastonArthur, Caropardiaco, moonkycs, EZEQUIELROGEL, aguspresta, robergalati, ffefoo, Lucheto_, lautiNS, mmahttew, ESCABIA2, Escaracho, Satapaez, Bet_miau, Elsabros0, ElSpreen, Campeesino, YamiSanchezz, UnGonzaMas, TiziAin, gaspaa__, Felipequirogg, JustiCaspani, dtoke, taieloo, DuendePablo, Roddrinicolas, Keddash, luckraok, hatsound, mijochiko, Hectordg2, Candexnegri, eldenguee, Lankys, frannmar, Slend00, Rustyk, LANFR4, Nanocs1, rodsquare, Kilattoh, Niikkelx, SoylaTana, GonzaLP, Peek_LATAM, LuBruuu, Robleis, chinitovideos, auronplay, ShuliiPalmi, octa__, rorr0, josh_castro1, milaferraro, Nahircastillo, Twayko, ColoDalboni, falconeee, Stuzzy1, TELLIER50, Rojankhzxr, Bianca, Rufusmda, Tinchoarmesto, Tywala, Nachhox, magaluuu, candemunizza, Theitoooo, RcAguanta, luquitarodriguez, Fieraa, mmmilagros, lunadss, luleeee, JaazminG, LuckReady, florenciafigola, GordoReally, Cabech, DantuSilva, fenty, LuaCanete, SofiBarreiro, Jonezerk, ElRuloAP, DobbyPoter, Zukwaan, Coroline, TOKK8, Lachi, Fakaax, thiaghettox, t1nchojr, REEN, ValenTaboada, Frankoov12, Gasparrancio, Micaelala, MoreeRainelli, SantuLP, agolpee, frantita7, parienteeh, Chigua, lautarolpz, ojeedita, LaGauchita, zeki, PapoMC, Martu, santidead, Ler0v, Carrilonn, facuasmus, helicopptero, Paio, nicole_, Camibonttii, frrrance, Medusaa, OriiCortes, kid_aku, unicornio, LoboFz, BebuElPri, Doguito, facu_navajas, Moon_Days, Hydr4G, JJuanchis, catadistaso, micubarone, Lechigg, Juanignasss, ValenLagio_, VOID_OLI, Mourtha, ZeKoXx, mirkong1, el_ignaaa, Mirko, Legen, Tadeo, Niko10, Qevito, FacuRtt, Rewisho, ciendi, MilagrosMartinezz, athhe, Talascka, RoccoPaella, jerezarate, Manueltn1, nanoide, DelfiPignatiello, MeluVena, Milica, Kogollo_, Vector, lilcake, ramicomte, rant4r, Rayconnn, elprincipexx, MauricioGODoy, ELBUHODENASHE, mikeblunt, Gascoo, PauliAraniti, MaiiArraiz, dukissj, coloradaxx, Nikkoisa, Marcoselpz, Butta, Gaston, JonyNavaja, yuyumartinez, mart, FacuLA_, bgiulietti, micadeboe, JimenaLozz, san2208, justicastro, lolomorales, NaachoDC, chinosimplituca, kleos, Zzk7, ValenFili, MaleZlatar, GuadaLibrandi, Guadalupebb, RochiGGonzalez, LaPinky, BarbaColorada, Bazantii, Thomymaita, Capi, sundeyls, Santutu, Risharr7, Forweark, selepistea, BestorVD, AnitaRodriguezc, DrIgo, agusvillar, iruchii, franmiscusi, EmirAbraham, coscu, 51dun, mateocamberr, Seleneitor, CataRussoo, ElPichi, azuita, nahuloren, aguzakd, Leopa03, Lulupiii, Mr3acon, dykahok, Juanse7, negrogatuxx, raymadas, ManzanaSK, TheGrefg, Pato, Tacser, elcondu, facubanzas, igarzaa, k1ng, argentovlogs, Skyzerrrr, shaggyveneno, MAANUHD, tmotty, gorilon, Luca_NV, ViluRivero, jizakude, AguZzh, keze_, caronigro, LaLocaPoni, Luken, Tuli_acosta, FranTeton, pachorra10, Cintto, Cande, Keinerrr, Luchito0309, FacuColangelo, gianeez, Santto1, FacuBenites, pppatricio, imviolette_, NachitoBarbero, MarkitoNavaja, SLAKUN10, ElSantar, Arriooo, anabellaa__, NahuelSchmidt, panitarc, malaso, JuanmaBosco, Agusbob, Trad7, ValenWerle, Reniip, Ianbisio, LeoNoDat, juanmiitaaa, Joseffiina, ffransa, Rubius, shelao, agusgi, FlorMendi, LuchitoFS, c0ker, Yacoaccinelli, ttavoo, zSare, goncho, Patitouuu, ElcanaldeJoaco, Oscurlod, BrianAlexisOk, MrVargasTv, sofi_oc, Bestia, Valentino, Jachus, Inframe15, elcotita, TitiNievax, gastilorenti, elgordobarreiro, LaChilenaBelu, FedeLezcano, Maachete, momoladinastia, xOwNz, villatm, TANITOK, germantecheraa, LaCambicha, TirriYogurt1, blascosta1, Cuervo, zEkO, PABELLON_4, Correntinooo, vini, Neczo_, SEVENKAYNE, BoffeGP, cAvex, ttaaato, DonaldTrompa_, Laralvz, TzY__, Juanchoo7, "
     ]
    }
   ],
   "source": [
    "# compute k-core descomposition\n",
    "nx_cores = nx.algorithms.core.core_number(G)\n",
    "print(\"\\nFirst 10 users with the cores given by NetworkX:\\n\", dict(list(nx_cores.items())[:10]))\n",
    "\n",
    "# reformat NetworkX solution\n",
    "nx_cores_format = {c:set() for c in set(nx_cores.values())}\n",
    "for node in nx_cores:\n",
    "  nx_cores_format[nx_cores[node]].add(node)\n",
    "print(\"\\nFirst 10 cores with their users associated:\\n\", dict(list(nx_cores_format.items())[:10]))\n",
    "\n",
    "highest_core = list(nx_cores.values())[0]\n",
    "print(\"\\nThe highest core number is\", highest_core)\n",
    "print(\"\\nThe users that have the highest core are:\")\n",
    "users_highset_core = []\n",
    "for node_id in nx_cores_format[highest_core]:\n",
    "  user_name = G.nodes[node_id][\"name\"]\n",
    "  users_highset_core.append(user_name)\n",
    "  print(user_name, end=\", \")"
   ]
  },
  {
   "cell_type": "code",
   "execution_count": 11,
   "metadata": {
    "colab": {
     "base_uri": "https://localhost:8080/"
    },
    "id": "zCaAAIPjawCb",
    "outputId": "6a442051-a574-4ff0-915a-1823a52213e3"
   },
   "outputs": [
    {
     "name": "stdout",
     "output_type": "stream",
     "text": [
      "The users that appear one or more times in the rankings of the previous metrics are:\n",
      "AriGameplays, TheGrefg, ibai, IlloJuan, DuendePablo, SLAKUN10, Rubius, TELLIER50, coscu, LOLITOFDEZ, alexelcapo, elxokas, Sibrel, juansguarnizo, auronplay, IamCristinini, Magi, LVPes\n",
      "\n",
      "\n",
      "Previous users ordered by core number:\n",
      "\n",
      "With core number 267:\n",
      "TheGrefg, auronplay, SLAKUN10, DuendePablo, ibai, TELLIER50, Rubius, coscu\n",
      "\n",
      "With core number 262:\n",
      "IamCristinini\n",
      "\n",
      "With core number 260:\n",
      "LOLITOFDEZ\n",
      "\n",
      "With core number 251:\n",
      "elxokas, AriGameplays\n",
      "\n",
      "With core number 237:\n",
      "juansguarnizo\n",
      "\n",
      "With core number 223:\n",
      "LVPes\n",
      "\n",
      "With core number 207:\n",
      "alexelcapo\n",
      "\n",
      "With core number 188:\n",
      "IlloJuan\n",
      "\n",
      "With core number 166:\n",
      "Sibrel\n",
      "\n",
      "With core number 164:\n",
      "Magi\n"
     ]
    }
   ],
   "source": [
    "# order the imporant users (according to fundamental metrics) by core number\n",
    "important_users_names = set()\n",
    "for m in df_ranking_metrics.drop(\"outdegree\", axis=1):\n",
    "  for user_name in df_ranking_metrics[m]:\n",
    "    important_users_names.add(user_name)\n",
    "print(\"The users that appear one or more times in the rankings of the previous metrics are:\")\n",
    "print(\", \".join(important_users_names))\n",
    "# extract ids from important users\n",
    "important_users_ids = list(df[df[\"name\"].isin(important_users_names)][\"id\"])\n",
    "\n",
    "important_users_cores = { user_id: nx_cores[user_id] for user_id in important_users_ids}\n",
    "# reformat NetworkX solution\n",
    "important_users_cores_format = {c:set() for c in set(important_users_cores.values())}\n",
    "for node in important_users_cores:\n",
    "  important_users_cores_format[important_users_cores[node]].add(node)\n",
    "important_users_cores_format = dict(sorted(important_users_cores_format.items(), key=lambda x: x[0],reverse=True))\n",
    "\n",
    "print(\"\\n\\nPrevious users ordered by core number:\")\n",
    "for core in important_users_cores_format:\n",
    "  print(f\"\\nWith core number {core}:\")\n",
    "  print(\", \".join([G.nodes[node_id][\"name\"] for node_id in important_users_cores_format[core]]))"
   ]
  }
 ],
 "metadata": {
  "colab": {
   "collapsed_sections": [],
   "name": "quique_df2networkx.ipynb",
   "provenance": []
  },
  "kernelspec": {
   "display_name": "Python 3 (ipykernel)",
   "language": "python",
   "name": "python3"
  },
  "language_info": {
   "codemirror_mode": {
    "name": "ipython",
    "version": 3
   },
   "file_extension": ".py",
   "mimetype": "text/x-python",
   "name": "python",
   "nbconvert_exporter": "python",
   "pygments_lexer": "ipython3",
   "version": "3.7.11"
  }
 },
 "nbformat": 4,
 "nbformat_minor": 1
}
