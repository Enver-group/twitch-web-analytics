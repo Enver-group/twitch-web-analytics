{
  "nbformat": 4,
  "nbformat_minor": 0,
  "metadata": {
    "colab": {
      "name": "quique_df2networkx.ipynb",
      "provenance": [],
      "collapsed_sections": []
    },
    "kernelspec": {
      "name": "python3",
      "display_name": "Python 3"
    },
    "language_info": {
      "name": "python"
    }
  },
  "cells": [
    {
      "cell_type": "code",
      "source": [
        "import numpy as np\n",
        "import pandas as pd\n",
        "import matplotlib.pyplot as plt\n",
        "import networkx as nx"
      ],
      "metadata": {
        "id": "shJ3NL0xrPeB"
      },
      "execution_count": 6,
      "outputs": []
    },
    {
      "cell_type": "code",
      "execution_count": 1,
      "metadata": {
        "id": "MrmZMxNgquPX"
      },
      "outputs": [],
      "source": [
        "%%capture\n",
        "import os\n",
        "\n",
        "# check if this is a colab notebook and clone the repo if it is\n",
        "if 'COLAB_GPU' in os.environ:\n",
        "    %cd /content/\n",
        "    !git clone https://github.com/Enver-group/twitch-web-analytics\n",
        "    %cd twitch-web-analytics\n",
        "    !gdown --id 11IfXaA66-D7vjA2R46uAilBgOPxYmKmn\n",
        "else:\n",
        "    os.chdir('..')\n",
        "\n",
        "!pip install -r requirements.txt\n",
        "\n",
        "!pip install -e ."
      ]
    },
    {
      "cell_type": "code",
      "source": [
        "#autoreload modules\n",
        "%load_ext autoreload\n",
        "%autoreload 2\n",
        "\n",
        "from src.user import User"
      ],
      "metadata": {
        "id": "CSjLcWjyq1dJ"
      },
      "execution_count": 2,
      "outputs": []
    },
    {
      "cell_type": "code",
      "source": [
        "df = pd.read_csv(\"data/data_ibai.csv\")\n",
        "df.head()"
      ],
      "metadata": {
        "colab": {
          "base_uri": "https://localhost:8080/",
          "height": 521
        },
        "id": "RP0AlR9uq4h0",
        "outputId": "21084104-837e-4576-8f09-4204d5d41b8f"
      },
      "execution_count": 232,
      "outputs": [
        {
          "output_type": "execute_result",
          "data": {
            "text/html": [
              "<div>\n",
              "<style scoped>\n",
              "    .dataframe tbody tr th:only-of-type {\n",
              "        vertical-align: middle;\n",
              "    }\n",
              "\n",
              "    .dataframe tbody tr th {\n",
              "        vertical-align: top;\n",
              "    }\n",
              "\n",
              "    .dataframe thead th {\n",
              "        text-align: right;\n",
              "    }\n",
              "</style>\n",
              "<table border=\"1\" class=\"dataframe\">\n",
              "  <thead>\n",
              "    <tr style=\"text-align: right;\">\n",
              "      <th></th>\n",
              "      <th>id</th>\n",
              "      <th>name</th>\n",
              "      <th>num_followers</th>\n",
              "      <th>broadcaster_type</th>\n",
              "      <th>description</th>\n",
              "      <th>lang</th>\n",
              "      <th>last_game_played_name</th>\n",
              "      <th>view_count</th>\n",
              "      <th>profile_image_url</th>\n",
              "      <th>created_at</th>\n",
              "      <th>user_follows</th>\n",
              "    </tr>\n",
              "  </thead>\n",
              "  <tbody>\n",
              "    <tr>\n",
              "      <th>0</th>\n",
              "      <td>459331509</td>\n",
              "      <td>auronplay</td>\n",
              "      <td>10874269.0</td>\n",
              "      <td>partner</td>\n",
              "      <td>feliz pero no mucho</td>\n",
              "      <td>es</td>\n",
              "      <td>Minecraft</td>\n",
              "      <td>212164590</td>\n",
              "      <td>https://static-cdn.jtvnw.net/jtv_user_pictures...</td>\n",
              "      <td>2019-09-03T14:02:49Z</td>\n",
              "      <td>['210708721', '431460701', '77649106', '130065...</td>\n",
              "    </tr>\n",
              "    <tr>\n",
              "      <th>1</th>\n",
              "      <td>39276140</td>\n",
              "      <td>Rubius</td>\n",
              "      <td>10483602.0</td>\n",
              "      <td>partner</td>\n",
              "      <td>se contar hasta patata</td>\n",
              "      <td>es</td>\n",
              "      <td>Propnight</td>\n",
              "      <td>222893232</td>\n",
              "      <td>https://static-cdn.jtvnw.net/jtv_user_pictures...</td>\n",
              "      <td>2013-01-12T18:46:56Z</td>\n",
              "      <td>['277057209', '603776329', '91136321', '198363...</td>\n",
              "    </tr>\n",
              "    <tr>\n",
              "      <th>2</th>\n",
              "      <td>48878319</td>\n",
              "      <td>TheGrefg</td>\n",
              "      <td>8709137.0</td>\n",
              "      <td>partner</td>\n",
              "      <td>Hola, me llamo David, me quedé calvo delante d...</td>\n",
              "      <td>es</td>\n",
              "      <td>Five Nights at Freddy's</td>\n",
              "      <td>197871081</td>\n",
              "      <td>https://static-cdn.jtvnw.net/jtv_user_pictures...</td>\n",
              "      <td>2013-09-12T00:45:27Z</td>\n",
              "      <td>['143776262', '675347177', '33734881', '248222...</td>\n",
              "    </tr>\n",
              "    <tr>\n",
              "      <th>3</th>\n",
              "      <td>83232866</td>\n",
              "      <td>ibai</td>\n",
              "      <td>8536540.0</td>\n",
              "      <td>partner</td>\n",
              "      <td>Si lees esto que sepas que te aprecio</td>\n",
              "      <td>es</td>\n",
              "      <td>VALORANT</td>\n",
              "      <td>286992630</td>\n",
              "      <td>https://static-cdn.jtvnw.net/jtv_user_pictures...</td>\n",
              "      <td>2015-02-20T16:47:56Z</td>\n",
              "      <td>['35980866', '145908612', '205218019', '911363...</td>\n",
              "    </tr>\n",
              "    <tr>\n",
              "      <th>4</th>\n",
              "      <td>121510236</td>\n",
              "      <td>juansguarnizo</td>\n",
              "      <td>6013656.0</td>\n",
              "      <td>partner</td>\n",
              "      <td>Juan Sebastián Guarnizo Algarra, más conocido ...</td>\n",
              "      <td>es</td>\n",
              "      <td>Just Chatting</td>\n",
              "      <td>127964214</td>\n",
              "      <td>https://static-cdn.jtvnw.net/jtv_user_pictures...</td>\n",
              "      <td>2016-04-11T03:34:11Z</td>\n",
              "      <td>['43419527', '517536651', '476005292', '109492...</td>\n",
              "    </tr>\n",
              "  </tbody>\n",
              "</table>\n",
              "</div>"
            ],
            "text/plain": [
              "          id  ...                                       user_follows\n",
              "0  459331509  ...  ['210708721', '431460701', '77649106', '130065...\n",
              "1   39276140  ...  ['277057209', '603776329', '91136321', '198363...\n",
              "2   48878319  ...  ['143776262', '675347177', '33734881', '248222...\n",
              "3   83232866  ...  ['35980866', '145908612', '205218019', '911363...\n",
              "4  121510236  ...  ['43419527', '517536651', '476005292', '109492...\n",
              "\n",
              "[5 rows x 11 columns]"
            ]
          },
          "metadata": {},
          "execution_count": 232
        }
      ]
    },
    {
      "cell_type": "code",
      "source": [
        "# reformating the variable user_follows\n",
        "print(type(df[\"user_follows\"][0]))\n",
        "display(df[\"user_follows\"].head())\n",
        "df[\"user_follows\"] = df[\"user_follows\"].str[1:-1].str.replace(\"'\",\"\").str.split(\", \")\n",
        "df[\"user_follows\"] = df[\"user_follows\"].apply(lambda x: np.nan if x==[''] else x)\n",
        "df[\"user_follows\"] = df[\"user_follows\"].apply(lambda x: list(map(int, x)) if isinstance(x, list) else x)\n",
        "print(type(df[\"user_follows\"][0]))\n",
        "display(df[\"user_follows\"].head())"
      ],
      "metadata": {
        "colab": {
          "base_uri": "https://localhost:8080/",
          "height": 269
        },
        "id": "IhGW1L-6x9f7",
        "outputId": "94ff9ed3-ed28-44bb-a841-65643346da6a"
      },
      "execution_count": 233,
      "outputs": [
        {
          "output_type": "stream",
          "name": "stdout",
          "text": [
            "<class 'str'>\n"
          ]
        },
        {
          "output_type": "display_data",
          "data": {
            "text/plain": [
              "0    ['210708721', '431460701', '77649106', '130065...\n",
              "1    ['277057209', '603776329', '91136321', '198363...\n",
              "2    ['143776262', '675347177', '33734881', '248222...\n",
              "3    ['35980866', '145908612', '205218019', '911363...\n",
              "4    ['43419527', '517536651', '476005292', '109492...\n",
              "Name: user_follows, dtype: object"
            ]
          },
          "metadata": {}
        },
        {
          "output_type": "stream",
          "name": "stdout",
          "text": [
            "<class 'list'>\n"
          ]
        },
        {
          "output_type": "display_data",
          "data": {
            "text/plain": [
              "0    [210708721, 431460701, 77649106, 130065491, 42...\n",
              "1    [277057209, 603776329, 91136321, 198363811, 48...\n",
              "2    [143776262, 675347177, 33734881, 248222879, 18...\n",
              "3    [35980866, 145908612, 205218019, 91136321, 524...\n",
              "4    [43419527, 517536651, 476005292, 109492660, 55...\n",
              "Name: user_follows, dtype: object"
            ]
          },
          "metadata": {}
        }
      ]
    },
    {
      "cell_type": "code",
      "source": [
        "# converting the df into a graph\n",
        "G = nx.DiGraph()\n",
        "for i,user in df.iterrows():\n",
        "  G.add_node(user[\"id\"], **user.drop([\"id\",\"user_follows\"]))\n",
        "  if isinstance(user[\"user_follows\"], list):\n",
        "    G.add_edges_from([(user[\"id\"], id_followed) for id_followed in user[\"user_follows\"]]) "
      ],
      "metadata": {
        "id": "ipz04UqQzrFg"
      },
      "execution_count": 202,
      "outputs": []
    },
    {
      "cell_type": "code",
      "source": [
        "# checking the correctness of the graph\n",
        "print(\"Number of nodes:\", G.number_of_nodes())\n",
        "print(\"Number of edges:\", G.number_of_edges(), \"\\n\")\n",
        "for i, user in enumerate(G.degree()):\n",
        "  if i >10:\n",
        "    break\n",
        "  print(G.nodes[user[0]][\"name\"], \"is following to\", user[1], \"users\")"
      ],
      "metadata": {
        "colab": {
          "base_uri": "https://localhost:8080/"
        },
        "id": "xdSd0PiTD1mT",
        "outputId": "92ee72ad-47f3-48ee-bd61-b8ba9b82167f"
      },
      "execution_count": 224,
      "outputs": [
        {
          "output_type": "stream",
          "name": "stdout",
          "text": [
            "Number of nodes: 315633\n",
            "Number of edges: 1493481 \n",
            "\n",
            "auronplay is following to 2878 users\n",
            "josecristo_ is following to 251 users\n",
            "xXxTheFocuSxXx is following to 289 users\n",
            "Ampeterby7 is following to 624 users\n",
            "javiDMr10 is following to 216 users\n",
            "gtv_genesis is following to 336 users\n",
            "Tanizen is following to 622 users\n",
            "Carola is following to 828 users\n",
            "CooLifeGame is following to 1084 users\n",
            "Luzu is following to 768 users\n",
            "ZormanWorld is following to 331 users\n"
          ]
        }
      ]
    },
    {
      "cell_type": "code",
      "source": [
        ""
      ],
      "metadata": {
        "id": "YxSQDISvUiNk"
      },
      "execution_count": null,
      "outputs": []
    }
  ]
}