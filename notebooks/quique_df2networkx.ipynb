{
  "nbformat": 4,
  "nbformat_minor": 0,
  "metadata": {
    "colab": {
      "name": "quique_df2networkx.ipynb",
      "provenance": [],
      "collapsed_sections": []
    },
    "kernelspec": {
      "name": "python3",
      "display_name": "Python 3"
    },
    "language_info": {
      "name": "python"
    }
  },
  "cells": [
    {
      "cell_type": "code",
      "source": [
        "import numpy as np\n",
        "import pandas as pd\n",
        "import matplotlib.pyplot as plt\n",
        "import networkx as nx"
      ],
      "metadata": {
        "id": "shJ3NL0xrPeB"
      },
      "execution_count": 1,
      "outputs": []
    },
    {
      "cell_type": "code",
      "execution_count": 2,
      "metadata": {
        "id": "MrmZMxNgquPX"
      },
      "outputs": [],
      "source": [
        "%%capture\n",
        "import os\n",
        "\n",
        "# check if this is a colab notebook and clone the repo if it is\n",
        "if 'COLAB_GPU' in os.environ:\n",
        "    %cd /content/\n",
        "    !git clone https://github.com/Enver-group/twitch-web-analytics\n",
        "    %cd twitch-web-analytics\n",
        "    !gdown --id 11IfXaA66-D7vjA2R46uAilBgOPxYmKmn\n",
        "else:\n",
        "    os.chdir('..')\n",
        "\n",
        "!pip install -r requirements.txt\n",
        "\n",
        "!pip install -e ."
      ]
    },
    {
      "cell_type": "code",
      "source": [
        "#autoreload modules\n",
        "%load_ext autoreload\n",
        "%autoreload 2\n",
        "\n",
        "from src.user import User"
      ],
      "metadata": {
        "id": "CSjLcWjyq1dJ"
      },
      "execution_count": 3,
      "outputs": []
    },
    {
      "cell_type": "code",
      "source": [
        "df = pd.read_feather(\"data/streamers.feather\")\n",
        "df.head()"
      ],
      "metadata": {
        "colab": {
          "base_uri": "https://localhost:8080/",
          "height": 573
        },
        "id": "RP0AlR9uq4h0",
        "outputId": "e2ce724f-1fc8-4af1-980c-ed18b3d0f582"
      },
      "execution_count": 19,
      "outputs": [
        {
          "output_type": "execute_result",
          "data": {
            "text/html": [
              "<div>\n",
              "<style scoped>\n",
              "    .dataframe tbody tr th:only-of-type {\n",
              "        vertical-align: middle;\n",
              "    }\n",
              "\n",
              "    .dataframe tbody tr th {\n",
              "        vertical-align: top;\n",
              "    }\n",
              "\n",
              "    .dataframe thead th {\n",
              "        text-align: right;\n",
              "    }\n",
              "</style>\n",
              "<table border=\"1\" class=\"dataframe\">\n",
              "  <thead>\n",
              "    <tr style=\"text-align: right;\">\n",
              "      <th></th>\n",
              "      <th>id</th>\n",
              "      <th>name</th>\n",
              "      <th>num_followers</th>\n",
              "      <th>broadcaster_type</th>\n",
              "      <th>description</th>\n",
              "      <th>lang</th>\n",
              "      <th>last_game_played_name</th>\n",
              "      <th>view_count</th>\n",
              "      <th>profile_image_url</th>\n",
              "      <th>created_at</th>\n",
              "      <th>user_follows</th>\n",
              "    </tr>\n",
              "  </thead>\n",
              "  <tbody>\n",
              "    <tr>\n",
              "      <th>0</th>\n",
              "      <td>459331509</td>\n",
              "      <td>auronplay</td>\n",
              "      <td>10874205.0</td>\n",
              "      <td>partner</td>\n",
              "      <td>feliz pero no mucho</td>\n",
              "      <td>es</td>\n",
              "      <td>Minecraft</td>\n",
              "      <td>212166590</td>\n",
              "      <td>https://static-cdn.jtvnw.net/jtv_user_pictures...</td>\n",
              "      <td>2019-09-03 14:02:49</td>\n",
              "      <td>[210708721, 431460701, 77649106, 130065491, 42...</td>\n",
              "    </tr>\n",
              "    <tr>\n",
              "      <th>1</th>\n",
              "      <td>39276140</td>\n",
              "      <td>Rubius</td>\n",
              "      <td>10483570.0</td>\n",
              "      <td>partner</td>\n",
              "      <td>se contar hasta patata</td>\n",
              "      <td>es</td>\n",
              "      <td>Propnight</td>\n",
              "      <td>222921576</td>\n",
              "      <td>https://static-cdn.jtvnw.net/jtv_user_pictures...</td>\n",
              "      <td>2013-01-12 18:46:56</td>\n",
              "      <td>[91136321, 198363811, 210708721, 133528221, 70...</td>\n",
              "    </tr>\n",
              "    <tr>\n",
              "      <th>2</th>\n",
              "      <td>48878319</td>\n",
              "      <td>TheGrefg</td>\n",
              "      <td>8708686.0</td>\n",
              "      <td>partner</td>\n",
              "      <td>Hola, me llamo David, me quedé calvo delante d...</td>\n",
              "      <td>es</td>\n",
              "      <td>Five Nights at Freddy's</td>\n",
              "      <td>197916916</td>\n",
              "      <td>https://static-cdn.jtvnw.net/jtv_user_pictures...</td>\n",
              "      <td>2013-09-12 00:45:27</td>\n",
              "      <td>[143776262, 675347177, 33734881, 248222879, 18...</td>\n",
              "    </tr>\n",
              "    <tr>\n",
              "      <th>3</th>\n",
              "      <td>83232866</td>\n",
              "      <td>ibai</td>\n",
              "      <td>8536480.0</td>\n",
              "      <td>partner</td>\n",
              "      <td>Si lees esto que sepas que te aprecio</td>\n",
              "      <td>es</td>\n",
              "      <td>VALORANT</td>\n",
              "      <td>286994651</td>\n",
              "      <td>https://static-cdn.jtvnw.net/jtv_user_pictures...</td>\n",
              "      <td>2015-02-20 16:47:56</td>\n",
              "      <td>[35980866, 145908612, 205218019, 91136321, 524...</td>\n",
              "    </tr>\n",
              "    <tr>\n",
              "      <th>4</th>\n",
              "      <td>121510236</td>\n",
              "      <td>juansguarnizo</td>\n",
              "      <td>6013625.0</td>\n",
              "      <td>partner</td>\n",
              "      <td>Juan Sebastián Guarnizo Algarra, más conocido ...</td>\n",
              "      <td>es</td>\n",
              "      <td>Just Chatting</td>\n",
              "      <td>127964660</td>\n",
              "      <td>https://static-cdn.jtvnw.net/jtv_user_pictures...</td>\n",
              "      <td>2016-04-11 03:34:11</td>\n",
              "      <td>[43419527, 517536651, 476005292, 109492660, 55...</td>\n",
              "    </tr>\n",
              "  </tbody>\n",
              "</table>\n",
              "</div>"
            ],
            "text/plain": [
              "          id  ...                                       user_follows\n",
              "0  459331509  ...  [210708721, 431460701, 77649106, 130065491, 42...\n",
              "1   39276140  ...  [91136321, 198363811, 210708721, 133528221, 70...\n",
              "2   48878319  ...  [143776262, 675347177, 33734881, 248222879, 18...\n",
              "3   83232866  ...  [35980866, 145908612, 205218019, 91136321, 524...\n",
              "4  121510236  ...  [43419527, 517536651, 476005292, 109492660, 55...\n",
              "\n",
              "[5 rows x 11 columns]"
            ]
          },
          "metadata": {},
          "execution_count": 19
        }
      ]
    },
    {
      "cell_type": "code",
      "source": [
        "# converting the df into a graph\n",
        "G = nx.DiGraph()\n",
        "for i,user in df.iterrows():\n",
        "  G.add_node(user[\"id\"], **user.drop([\"id\",\"user_follows\"]))\n",
        "  if isinstance(user[\"user_follows\"], np.ndarray):\n",
        "    G.add_edges_from([(user[\"id\"], id_followed) for id_followed in user[\"user_follows\"]]) "
      ],
      "metadata": {
        "id": "ipz04UqQzrFg"
      },
      "execution_count": 35,
      "outputs": []
    },
    {
      "cell_type": "code",
      "source": [
        "# checking the correctness of the graph\n",
        "print(\"Number of nodes:\", G.number_of_nodes())\n",
        "print(\"Number of edges:\", G.number_of_edges(), \"\\n\")\n",
        "for i, user in enumerate(G.degree()):\n",
        "  if i >10:\n",
        "    break\n",
        "  print(G.nodes[user[0]][\"name\"], \"is following to\", user[1], \"users\")"
      ],
      "metadata": {
        "colab": {
          "base_uri": "https://localhost:8080/"
        },
        "id": "u4w9Q-8Z-pl2",
        "outputId": "76735b9e-e307-4937-bb2f-367e1eb7e09a"
      },
      "execution_count": 36,
      "outputs": [
        {
          "output_type": "stream",
          "name": "stdout",
          "text": [
            "Number of nodes: 75743\n",
            "Number of edges: 1368929 \n",
            "\n",
            "auronplay is following to 4089 users\n",
            "josecristo_ is following to 252 users\n",
            "xXxTheFocuSxXx is following to 385 users\n",
            "Ampeterby7 is following to 796 users\n",
            "javiDMr10 is following to 209 users\n",
            "gtv_genesis is following to 362 users\n",
            "Tanizen is following to 679 users\n",
            "Carola is following to 966 users\n",
            "CooLifeGame is following to 1276 users\n",
            "Luzu is following to 1049 users\n",
            "ZormanWorld is following to 425 users\n"
          ]
        }
      ]
    },
    {
      "cell_type": "code",
      "source": [
        ""
      ],
      "metadata": {
        "id": "YxSQDISvUiNk"
      },
      "execution_count": null,
      "outputs": []
    }
  ]
}