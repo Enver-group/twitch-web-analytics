{
 "cells": [
  {
   "cell_type": "code",
   "execution_count": 1,
   "metadata": {
    "id": "shJ3NL0xrPeB"
   },
   "outputs": [],
   "source": [
    "import os\n",
    "import numpy as np\n",
    "import pandas as pd\n",
    "import matplotlib.pyplot as plt\n",
    "import networkx as nx\n",
    "import pickle"
   ]
  },
  {
   "cell_type": "code",
   "execution_count": 2,
   "metadata": {
    "id": "MrmZMxNgquPX"
   },
   "outputs": [],
   "source": [
    "%%capture\n",
    "\n",
    "# check if this is a colab notebook and clone the repo if it is\n",
    "if 'COLAB_GPU' in os.environ:\n",
    "    %cd /content/\n",
    "    !git clone https://github.com/Enver-group/twitch-web-analytics\n",
    "    %cd twitch-web-analytics\n",
    "    !gdown --id 11IfXaA66-D7vjA2R46uAilBgOPxYmKmn\n",
    "else:\n",
    "    os.chdir('..')\n",
    "\n",
    "!pip install -r requirements.txt\n",
    "\n",
    "!pip install -e ."
   ]
  },
  {
   "cell_type": "code",
   "execution_count": 3,
   "metadata": {
    "id": "CSjLcWjyq1dJ"
   },
   "outputs": [],
   "source": [
    "#autoreload modules\n",
    "%load_ext autoreload\n",
    "%autoreload 2\n",
    "\n",
    "from src.user import User"
   ]
  },
  {
   "cell_type": "code",
   "execution_count": 4,
   "metadata": {
    "colab": {
     "base_uri": "https://localhost:8080/"
    },
    "id": "MQ3Ad0HM0wBr",
    "outputId": "1709da58-ef2a-4d3f-fbd2-80c8334d04db"
   },
   "outputs": [
    {
     "name": "stdout",
     "output_type": "stream",
     "text": [
      "70599 users have been removed for having null data in num_followers\n",
      "51735 users have been removed from the arrays in 'user_follows'\n",
      "68 users don't follow to any user after applying the previous filters\n"
     ]
    }
   ],
   "source": [
    "df = pd.read_feather(\"data/streamers.feather\")\n",
    "\n",
    "#TODO: put this cell in the code that generates the dataframe\n",
    "\n",
    "# removing users that have no data about which users they follow\n",
    "num_users = df.shape[0]\n",
    "df.dropna(subset=['num_followers'],inplace=True)\n",
    "print(num_users - df.shape[0], \"users have been removed for having null data in num_followers\")\n",
    "\n",
    "# remove from each array with users followed (the arrays that are in 'user_follows') the users that are not in the dataset\n",
    "df_streamers_exploded = df.explode(\"user_follows\")\n",
    "num_users_followed = len(df_streamers_exploded[\"user_follows\"].unique())\n",
    "df_streamers_exploded = df_streamers_exploded[df_streamers_exploded[\"user_follows\"].isin(df.id)]\n",
    "print(num_users_followed - len(df_streamers_exploded[\"user_follows\"].unique()), \"users have been removed from the arrays in 'user_follows'\")\n",
    "user_follows_arrays = df_streamers_exploded.groupby(\"id\").user_follows.apply(np.array).reset_index()\n",
    "df = df.set_index(\"id\")\n",
    "df.loc[user_follows_arrays.id,\"user_follows\"] = user_follows_arrays.user_follows.values\n",
    "# assign empty arrays to the users removed for not following any user of the dataset\n",
    "not_in_set_or_null = ~df.index.isin(user_follows_arrays.id)\n",
    "df.loc[not_in_set_or_null,\"user_follows\"] =  pd.Series([[]]*not_in_set_or_null.sum()).values\n",
    "df.reset_index(level=0, inplace=True)\n",
    "print(not_in_set_or_null.sum(), \"users don't follow to any user after applying the previous filters\")\n"
   ]
  },
  {
   "cell_type": "code",
   "execution_count": 5,
   "metadata": {
    "id": "0lNfmO8I0o62"
   },
   "outputs": [],
   "source": [
    "# converting the df into a graph\n",
    "G = nx.DiGraph()\n",
    "for i,user in df.iterrows():\n",
    "  G.add_node(user[\"id\"], **user.drop([\"id\",\"user_follows\"]))\n",
    "  if isinstance(user[\"user_follows\"], np.ndarray):\n",
    "    G.add_edges_from([(user[\"id\"], id_followed) for id_followed in user[\"user_follows\"]]) "
   ]
  },
  {
   "cell_type": "code",
   "execution_count": 6,
   "metadata": {
    "colab": {
     "base_uri": "https://localhost:8080/"
    },
    "id": "bUT2oKV7S5eo",
    "outputId": "f3dcf0b6-63e4-45a5-a614-1d0a17112489"
   },
   "outputs": [
    {
     "name": "stdout",
     "output_type": "stream",
     "text": [
      "Number of nodes: 5031\n",
      "Number of edges: 474107 \n",
      "\n",
      "auronplay is following to 2575 users\n",
      "josecristo_ is following to 219 users\n",
      "xXxTheFocuSxXx is following to 245 users\n",
      "Ampeterby7 is following to 539 users\n",
      "javiDMr10 is following to 143 users\n",
      "gtv_genesis is following to 284 users\n",
      "Tanizen is following to 531 users\n",
      "Carola is following to 682 users\n",
      "CooLifeGame is following to 940 users\n",
      "Luzu is following to 669 users\n",
      "ZormanWorld is following to 292 users\n"
     ]
    }
   ],
   "source": [
    "# checking the correctness of the graph\n",
    "print(\"Number of nodes:\", G.number_of_nodes())\n",
    "print(\"Number of edges:\", G.number_of_edges(), \"\\n\")\n",
    "for i, user in enumerate(G.degree()):\n",
    "  if i >10:\n",
    "    break\n",
    "  print(G.nodes[user[0]][\"name\"], \"is following to\", user[1], \"users\")"
   ]
  },
  {
   "cell_type": "code",
   "execution_count": 7,
   "metadata": {
    "id": "0Q7MJw8zPi7m"
   },
   "outputs": [],
   "source": [
    "# # another approach creating the graph from the exploded df (TODO: understand why the result is not equivalent)\n",
    "\n",
    "# df_streamers = pd.read_feather(\"data/streamers.feather\")\n",
    "# df_streamers.dropna(subset=['num_followers'],inplace=True)\n",
    "# edges = df_streamers.explode(\"user_follows\")[[\"id\",\"user_follows\"]]\n",
    "# edges = edges[edges[\"user_follows\"].isin(df_streamers.id)]\n",
    "\n",
    "# G = nx.from_pandas_edgelist(edges, 'id', 'user_follows')\n",
    "# for col_name in df_streamers.drop(['id', 'user_follows'], axis=1):\n",
    "#   nx.set_node_attributes(G, pd.Series(df_streamers[col_name], index=df_streamers[\"id\"]).to_dict(), col_name)\n",
    "\n",
    "# print(\"Number of nodes:\", G.number_of_nodes())\n",
    "# print(\"Number of edges:\", G.number_of_edges(), \"\\n\")\n",
    "# for i, user in enumerate(G.degree()):\n",
    "#   if i >10:\n",
    "#     break\n",
    "#   print(G.nodes[user[0]][\"name\"], \"is following to\", user[1], \"users\")\n"
   ]
  },
  {
   "cell_type": "markdown",
   "metadata": {
    "id": "IdSf4DP-WMJK"
   },
   "source": [
    "## Graph analysis"
   ]
  },
  {
   "cell_type": "code",
   "execution_count": 8,
   "metadata": {
    "colab": {
     "base_uri": "https://localhost:8080/"
    },
    "id": "xEZAI6h0WOg-",
    "outputId": "e6c8f832-c19d-4a04-b10d-aa269c32131b"
   },
   "outputs": [
    {
     "name": "stdout",
     "output_type": "stream",
     "text": [
      "\n",
      "indegree: {'83232866': 0.6838966202783301, '39276140': 0.5777335984095427, '459331509': 0.5033797216699801, '48878319': 0.45268389662027836, '36473331': 0.3453280318091451, '31919607': 0.34393638170974156, '512977322': 0.28151093439363817, '57793021': 0.27137176938369784, '123922797': 0.2697813121272366, '70357283': 0.2481113320079523}\n",
      "\n",
      "outdegree: {'42219929': 0.1433399602385686, '38617117': 0.11809145129224652, '161339757': 0.10834990059642148, '38587710': 0.10616302186878727, '60978790': 0.10437375745526839, '253842308': 0.10357852882703777, '129224135': 0.10357852882703777, '276673966': 0.10318091451292247, '55347167': 0.1021868787276342, '46233206': 0.1021868787276342}\n",
      "\n",
      "closeness: {'83232866': 0.7492422459110368, '39276140': 0.6906630062689043, '459331509': 0.6541322232645903, '48878319': 0.6308186264643544, '31919607': 0.5873583555777275, '36473331': 0.5848269416185754, '123922797': 0.5615656332153075, '512977322': 0.5614365525043052, '57793021': 0.5604060391579626, '121510236': 0.5485748953778732}\n",
      "\n",
      "betweenness: {'36473331': 0.019483088764566905, '48878319': 0.018025991601866555, '123922797': 0.015058048745676036, '47939440': 0.014532044145819463, '55347167': 0.013742386793423877, '83232866': 0.013507074552850705, '39276140': 0.011740597962294343, '121510236': 0.011614119099677982, '38617117': 0.011363090670814379, '567658286': 0.01108908674364694}\n",
      "\n",
      "pagerank: {'83232866': 0.009883465065231122, '39276140': 0.006711149920160719, '459331509': 0.005215541028973584, '48878319': 0.004756909067366223, '31919607': 0.004508187422914211, '90075649': 0.003725149449621262, '22346597': 0.0034854845440064897, '28608943': 0.0033591499409500046, '36138196': 0.003287198313075844, '123922797': 0.0031600179471764794}\n"
     ]
    }
   ],
   "source": [
    "# compute fundamental metrics(or load if they'be been already computed)\n",
    "\n",
    "metrics = {\"indegree\":nx.in_degree_centrality, \"outdegree\":nx.out_degree_centrality, \"closeness\":nx.closeness_centrality, \n",
    "            \"betweenness\":nx.betweenness_centrality, \"pagerank\":nx.pagerank}\n",
    "\n",
    "# create folder to save the metrics if needed\n",
    "folder_name = \"data/fundamental_metrics\"\n",
    "if not os.path.exists(folder_name):\n",
    "  os.mkdir(folder_name)\n",
    "\n",
    "for m in metrics:\n",
    "  file_name = f\"{folder_name}/{m}.pkl\"\n",
    "  if os.path.exists(file_name):\n",
    "    # load metric\n",
    "    with open(file_name, 'rb') as f:\n",
    "      metrics[m] = pickle.load(f)\n",
    "  else:\n",
    "    # compute metric\n",
    "    computed_metric = metrics[m](G)\n",
    "    # sort metric from highest to lowest\n",
    "    metrics[m] = dict(sorted(computed_metric.items(), key=lambda x: x[1],reverse=True))\n",
    "    # store metric\n",
    "    with open(file_name, 'wb') as f:\n",
    "        pickle.dump(metrics[m], f)\n",
    "  # display 10 first items of metric\n",
    "  print(f\"\\n{m}:\", dict(list(metrics[m].items())[:10]))\n"
   ]
  },
  {
   "cell_type": "code",
   "execution_count": 9,
   "metadata": {
    "colab": {
     "base_uri": "https://localhost:8080/",
     "height": 381
    },
    "id": "SckmhJUpbMiX",
    "outputId": "597b0854-536f-4759-a2b2-c22e072947da"
   },
   "outputs": [
    {
     "name": "stdout",
     "output_type": "stream",
     "text": [
      "Graph fundamental metrics:\n"
     ]
    },
    {
     "data": {
      "text/html": [
       "<div>\n",
       "<style scoped>\n",
       "    .dataframe tbody tr th:only-of-type {\n",
       "        vertical-align: middle;\n",
       "    }\n",
       "\n",
       "    .dataframe tbody tr th {\n",
       "        vertical-align: top;\n",
       "    }\n",
       "\n",
       "    .dataframe thead th {\n",
       "        text-align: right;\n",
       "    }\n",
       "</style>\n",
       "<table border=\"1\" class=\"dataframe\">\n",
       "  <thead>\n",
       "    <tr style=\"text-align: right;\">\n",
       "      <th></th>\n",
       "      <th>indegree</th>\n",
       "      <th>outdegree</th>\n",
       "      <th>closeness</th>\n",
       "      <th>betweenness</th>\n",
       "      <th>pagerank</th>\n",
       "    </tr>\n",
       "  </thead>\n",
       "  <tbody>\n",
       "    <tr>\n",
       "      <th>0</th>\n",
       "      <td>ibai</td>\n",
       "      <td>malaso</td>\n",
       "      <td>ibai</td>\n",
       "      <td>coscu</td>\n",
       "      <td>ibai</td>\n",
       "    </tr>\n",
       "    <tr>\n",
       "      <th>1</th>\n",
       "      <td>Rubius</td>\n",
       "      <td>DarkozTV</td>\n",
       "      <td>Rubius</td>\n",
       "      <td>TheGrefg</td>\n",
       "      <td>Rubius</td>\n",
       "    </tr>\n",
       "    <tr>\n",
       "      <th>2</th>\n",
       "      <td>auronplay</td>\n",
       "      <td>Hydr4G</td>\n",
       "      <td>auronplay</td>\n",
       "      <td>IamCristinini</td>\n",
       "      <td>auronplay</td>\n",
       "    </tr>\n",
       "    <tr>\n",
       "      <th>3</th>\n",
       "      <td>TheGrefg</td>\n",
       "      <td>JaazminG</td>\n",
       "      <td>TheGrefg</td>\n",
       "      <td>DuendePablo</td>\n",
       "      <td>TheGrefg</td>\n",
       "    </tr>\n",
       "    <tr>\n",
       "      <th>4</th>\n",
       "      <td>coscu</td>\n",
       "      <td>iEluney</td>\n",
       "      <td>elxokas</td>\n",
       "      <td>Sibrel</td>\n",
       "      <td>elxokas</td>\n",
       "    </tr>\n",
       "    <tr>\n",
       "      <th>5</th>\n",
       "      <td>elxokas</td>\n",
       "      <td>Ardillaloca24</td>\n",
       "      <td>coscu</td>\n",
       "      <td>ibai</td>\n",
       "      <td>IlloJuan</td>\n",
       "    </tr>\n",
       "    <tr>\n",
       "      <th>6</th>\n",
       "      <td>SLAKUN10</td>\n",
       "      <td>BestorVD</td>\n",
       "      <td>IamCristinini</td>\n",
       "      <td>Rubius</td>\n",
       "      <td>LVPes</td>\n",
       "    </tr>\n",
       "    <tr>\n",
       "      <th>7</th>\n",
       "      <td>LOLITOFDEZ</td>\n",
       "      <td>LeandroRiccio</td>\n",
       "      <td>SLAKUN10</td>\n",
       "      <td>juansguarnizo</td>\n",
       "      <td>ESL_csgo_es</td>\n",
       "    </tr>\n",
       "    <tr>\n",
       "      <th>8</th>\n",
       "      <td>IamCristinini</td>\n",
       "      <td>Sibrel</td>\n",
       "      <td>LOLITOFDEZ</td>\n",
       "      <td>DarkozTV</td>\n",
       "      <td>alexelcapo</td>\n",
       "    </tr>\n",
       "    <tr>\n",
       "      <th>9</th>\n",
       "      <td>AriGameplays</td>\n",
       "      <td>iDamFox</td>\n",
       "      <td>juansguarnizo</td>\n",
       "      <td>TELLIER50</td>\n",
       "      <td>IamCristinini</td>\n",
       "    </tr>\n",
       "  </tbody>\n",
       "</table>\n",
       "</div>"
      ],
      "text/plain": [
       "        indegree      outdegree      closeness    betweenness       pagerank\n",
       "0           ibai         malaso           ibai          coscu           ibai\n",
       "1         Rubius       DarkozTV         Rubius       TheGrefg         Rubius\n",
       "2      auronplay         Hydr4G      auronplay  IamCristinini      auronplay\n",
       "3       TheGrefg       JaazminG       TheGrefg    DuendePablo       TheGrefg\n",
       "4          coscu        iEluney        elxokas         Sibrel        elxokas\n",
       "5        elxokas  Ardillaloca24          coscu           ibai       IlloJuan\n",
       "6       SLAKUN10       BestorVD  IamCristinini         Rubius          LVPes\n",
       "7     LOLITOFDEZ  LeandroRiccio       SLAKUN10  juansguarnizo    ESL_csgo_es\n",
       "8  IamCristinini         Sibrel     LOLITOFDEZ       DarkozTV     alexelcapo\n",
       "9   AriGameplays        iDamFox  juansguarnizo      TELLIER50  IamCristinini"
      ]
     },
     "execution_count": 9,
     "metadata": {},
     "output_type": "execute_result"
    }
   ],
   "source": [
    "#obtain per each metric 10 nodes with the highest values\n",
    "df_ranking_metrics = pd.DataFrame()\n",
    "for m in metrics:\n",
    "  ranking10_ids = list(metrics[m].keys())[:10]\n",
    "  ranking10_names = [G.nodes[node_id][\"name\"] for node_id in ranking10_ids]\n",
    "  df_ranking_metrics[m] = ranking10_names\n",
    "print(\"Graph fundamental metrics:\")\n",
    "\n",
    "df_ranking_metrics"
   ]
  },
  {
   "cell_type": "code",
   "execution_count": 10,
   "metadata": {
    "colab": {
     "base_uri": "https://localhost:8080/"
    },
    "id": "QrbiDJKwZw4T",
    "outputId": "556e66d4-fa8c-4970-cc84-f4acfdf0e059"
   },
   "outputs": [
    {
     "name": "stdout",
     "output_type": "stream",
     "text": [
      "\n",
      "First 10 users with the cores given by NetworkX:\n",
      " {'459331509': 179, '210708721': 133, '431460701': 133, '77649106': 138, '130065491': 114, '427412996': 137, '40299581': 137, '110405254': 137, '42814514': 138, '66370849': 138}\n",
      "\n",
      "First 10 cores with their users associated:\n",
      " {0: {'620773811'}, 1: {'439373923', '400033906', '442505580', '236190404'}, 2: {'20619890', '455809385', '99286454'}, 3: {'524567698', '138218530', '162503630', '632828507', '489135756', '24813581'}, 4: {'529700302', '177296909', '105915313', '611282309', '507151739', '605649930', '552105043', '728541573', '116205426'}, 5: {'531366537', '543519001', '45597067', '58350953', '83025891', '41930562', '87455204'}, 6: {'92098894', '675517900', '71135659', '583178716', '179096261', '466365220', '692907111', '112100325', '94175451'}, 7: {'37660554', '675798357', '534211692', '42386491', '136625428', '37660816'}, 8: {'659742503', '485395238', '129543937', '111807900', '109931391', '25303197', '688077535', '136501897', '648149829', '143838104', '678427775', '121087348'}, 9: {'475483895', '129717118', '591046078', '152170872', '651152965', '264889974', '517999452', '149260689', '62114297', '100300058', '95276849', '79842765'}}\n",
      "\n",
      "The highest core number is 179\n",
      "\n",
      "The users that have the highest core are:\n",
      "LaPinky, MaiiArraiz, jjuandamoli, Martu, rant4r, GODETO, lautarolpz, Moon_Days, bgiulietti, Gusti159, MrVargasTv, Nanocs1, lepo, Chipi, raymadas, TELLIER50, sietesmallz, PapoMC, Skyzerrrr, Leobas, xOwNz, LolitoLp, Ttino1, Medusaa, ibai, robergalati, FrancoBertello74, Rubius, shainaprrr, chikiwh, dukissj, moli, sofiariaas_, ffefoo, Zzk7, Micaelala, el_sansoo, luquitarodriguez, Tanovich, LuchiQuinteros, hatsound, ZeKoXx, zeki, Campeesino, Bestia, LuchitoFS, ESCABIA2, Juanpolo7L, k1ng, lajefaok, MAANUHD, Candexnegri, Elsabros0, Tacser, ElSpreen, Ler0v, AyluLo, Centu, tmotty, YamiSanchezz, aguspresta, Cande, jjjjoaco, SEVENKAYNE, CEDROLAA, Rojankhzxr, DuendePablo, cAvex, Jachus, LITkillah, ffleitax, Luken, lunadss, Navajas_Barbershop, grafo, JaazminG, Roddrinicolas, SNEUX, NothingNoname, Caropardiaco, zarekzk, PABELLON_4, vini, shaggyveneno, santidead, Camibonttii, Hydr4G, LautA, tomivillarok, Carreraaa, PECET0, Escaracho, goncho, PatrySpace, momoladinastia, SofiBarreiro, BoffeGP, p0me, Valentino, Zukwaan, facubanzas, ValenWerle, teknossj, Rustyk, Mago, SofiFz, Santutu, Peek_LATAM, bertiaka, forg1, negrogatuxx, coscu, malaso, okyyy, ValennDiSalvo, Guadalupebb, Baaigo, mechatw, eldemente, elpibecs1, Seleneitor, Vector, chinosimplituca, erivillalva, martuboden, Betooh, luckraok, micadeboe, zEkO, H00LEY, FedeLezcano, frnkitoo, SoylaTana, LACOBRAAA, Chigua, unicornio, rodsquare, Chaterbox, DobbyPoter, CataRussoo, REEN, Twayko, Bet_miau, elgordobarreiro, gorilon, Axelisho, shelao, Cabech, Shulkka, Mateoois1, Mr3acon, EZEQUIELROGEL, iaaraS2, GGnia, BrianAlexisOk, Pimpeano, Bananirou, selepistea, MilagrosMartinezz, Mourtha, caninARG, Zeronmami, Capi, Morocho, Khrawn_, Niro, BarbaColorada, roxcsgo1, chinitovideos, Inframe15, sssofiiiiii, MarkitoNavaja, Forweark, Clipnode, Tadeo, rayitoo, Frankkaster, wastaf3is, DelfiPignatiello, Pato, Rufusmda, Pringl3s, lolomorales, 6tn_, zurjuan, villatm, Lagarto, tomivitolaa, Butta, Cirujaaaaaaa, sofi_oc, jizakude, GuadaLibrandi, TheGrefg, guishorro, BestorVD, Agusbob, Mirko, Coroline, LeandroRiccio, DrIgo, c0ker, Tizi, Santto1, Keddash, Manueltn1, GordoReally, DAMISALVAA, Fieraa, lilcake, iDamFox, Qevito, LeoNoDat, SLAKUN10, ElSantar, luleeee, LaChilenaBelu, eltinchoacua, Palermo, lulaa011, eldenguee, Gaston, Slend00, bautiagnone, PablitoRan, ElcanaldeJoaco, RenaMartino, Lechigg, kleos, keze_, fenty, agusgi, Oscurlod, BebuElPri, Tuli_acosta, Xmarmol, ManzanaSK, strakatv, coloradaxx, elprincipexx, Robleis, helicopptero, mmmilagros, Ianbisio, octa__, rengarsitoo, JuliManzotti, auronplay, mikeblunt, el_ignaaa, Lankys, Morita, Dydy, GuilleGiles, zainita, "
     ]
    }
   ],
   "source": [
    "# compute k-core descomposition\n",
    "nx_cores = nx.algorithms.core.core_number(G)\n",
    "print(\"\\nFirst 10 users with the cores given by NetworkX:\\n\", dict(list(nx_cores.items())[:10]))\n",
    "\n",
    "# reformat NetworkX solution\n",
    "nx_cores_format = {c:set() for c in set(nx_cores.values())}\n",
    "for node in nx_cores:\n",
    "  nx_cores_format[nx_cores[node]].add(node)\n",
    "print(\"\\nFirst 10 cores with their users associated:\\n\", dict(list(nx_cores_format.items())[:10]))\n",
    "\n",
    "highest_core = list(nx_cores.values())[0]\n",
    "print(\"\\nThe highest core number is\", highest_core)\n",
    "print(\"\\nThe users that have the highest core are:\")\n",
    "users_highset_core = []\n",
    "for node_id in nx_cores_format[highest_core]:\n",
    "  user_name = G.nodes[node_id][\"name\"]\n",
    "  users_highset_core.append(user_name)\n",
    "  print(user_name, end=\", \")"
   ]
  },
  {
   "cell_type": "code",
   "execution_count": 11,
   "metadata": {
    "colab": {
     "base_uri": "https://localhost:8080/"
    },
    "id": "zCaAAIPjawCb",
    "outputId": "6a442051-a574-4ff0-915a-1823a52213e3"
   },
   "outputs": [
    {
     "name": "stdout",
     "output_type": "stream",
     "text": [
      "The users that appear one or more times in the rankings of the previous metrics are:\n",
      "DarkozTV, LOLITOFDEZ, IlloJuan, TheGrefg, DuendePablo, alexelcapo, LVPes, AriGameplays, juansguarnizo, elxokas, coscu, Rubius, auronplay, SLAKUN10, IamCristinini, ibai, Sibrel, ESL_csgo_es, TELLIER50\n",
      "\n",
      "\n",
      "Previous users ordered by core number:\n",
      "\n",
      "With core number 179:\n",
      "SLAKUN10, TELLIER50, auronplay, ibai, coscu, Rubius, DuendePablo, TheGrefg\n",
      "\n",
      "With core number 177:\n",
      "IamCristinini\n",
      "\n",
      "With core number 168:\n",
      "DarkozTV, LOLITOFDEZ\n",
      "\n",
      "With core number 161:\n",
      "AriGameplays\n",
      "\n",
      "With core number 154:\n",
      "elxokas, juansguarnizo\n",
      "\n",
      "With core number 138:\n",
      "IlloJuan, LVPes, alexelcapo\n",
      "\n",
      "With core number 135:\n",
      "Sibrel\n",
      "\n",
      "With core number 133:\n",
      "ESL_csgo_es\n"
     ]
    }
   ],
   "source": [
    "# order the imporant users (according to fundamental metrics) by core number\n",
    "important_users_names = set()\n",
    "for m in df_ranking_metrics.drop(\"outdegree\", axis=1):\n",
    "  for user_name in df_ranking_metrics[m]:\n",
    "    important_users_names.add(user_name)\n",
    "print(\"The users that appear one or more times in the rankings of the previous metrics are:\")\n",
    "print(\", \".join(important_users_names))\n",
    "# extract ids from important users\n",
    "important_users_ids = list(df[df[\"name\"].isin(important_users_names)][\"id\"])\n",
    "\n",
    "important_users_cores = { user_id: nx_cores[user_id] for user_id in important_users_ids}\n",
    "# reformat NetworkX solution\n",
    "important_users_cores_format = {c:set() for c in set(important_users_cores.values())}\n",
    "for node in important_users_cores:\n",
    "  important_users_cores_format[important_users_cores[node]].add(node)\n",
    "important_users_cores_format = dict(sorted(important_users_cores_format.items(), key=lambda x: x[0],reverse=True))\n",
    "\n",
    "print(\"\\n\\nPrevious users ordered by core number:\")\n",
    "for core in important_users_cores_format:\n",
    "  print(f\"\\nWith core number {core}:\")\n",
    "  print(\", \".join([G.nodes[node_id][\"name\"] for node_id in important_users_cores_format[core]]))"
   ]
  },
  {
   "cell_type": "code",
   "execution_count": null,
   "metadata": {
    "id": "Qqv_OBVNldHd"
   },
   "outputs": [],
   "source": []
  }
 ],
 "metadata": {
  "colab": {
   "collapsed_sections": [],
   "name": "quique_df2networkx.ipynb",
   "provenance": []
  },
  "kernelspec": {
   "display_name": "Python 3 (ipykernel)",
   "language": "python",
   "name": "python3"
  },
  "language_info": {
   "codemirror_mode": {
    "name": "ipython",
    "version": 3
   },
   "file_extension": ".py",
   "mimetype": "text/x-python",
   "name": "python",
   "nbconvert_exporter": "python",
   "pygments_lexer": "ipython3",
   "version": "3.7.11"
  }
 },
 "nbformat": 4,
 "nbformat_minor": 1
}
