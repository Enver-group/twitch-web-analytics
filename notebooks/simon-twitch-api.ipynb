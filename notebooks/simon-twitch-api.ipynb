{
  "cells": [
    {
      "cell_type": "code",
      "execution_count": 16,
      "id": "297880f0",
      "metadata": {
        "colab": {
          "base_uri": "https://localhost:8080/"
        },
        "id": "297880f0",
        "outputId": "d85bf6e7-7216-4df8-b5d0-f9bf70707485"
      },
      "outputs": [
        {
          "name": "stdout",
          "output_type": "stream",
          "text": [
            "The autoreload extension is already loaded. To reload it, use:\n",
            "  %reload_ext autoreload\n"
          ]
        }
      ],
      "source": [
        "import os, sys\n",
        "\n",
        "sys.path.append(\"..\")\n",
        "\n",
        "#autoreload src modules\n",
        "%load_ext autoreload\n",
        "%autoreload 2\n",
        "\n",
        "\n",
        "from src.user import User"
      ]
    },
    {
      "cell_type": "code",
      "execution_count": null,
      "id": "d2cf322d",
      "metadata": {},
      "outputs": [],
      "source": [
        "!git clone "
      ]
    },
    {
      "cell_type": "code",
      "execution_count": 19,
      "id": "1df7d03a",
      "metadata": {},
      "outputs": [],
      "source": [
        "ibai = User.get_user(user_name=\"ibai\")\n",
        "ibai_follows = ibai.user_follows"
      ]
    },
    {
      "cell_type": "code",
      "execution_count": 23,
      "id": "bcffa8f8",
      "metadata": {},
      "outputs": [
        {
          "data": {
            "text/plain": [
              "[User(id='55125740', name='fortnite', broadcaster_type=None, description='Official Twitch for Fortnite; a free multiplayer game where you compete in Battle Royale, collaborate to create your private island in Creative, or quest in Save the World.', lang='es', last_game_played_name='FIFA 21', view_count=107708562, profile_image_url=None, created_at='2014-01-17T12:49:38Z'),\n",
              " User(id='48878319', name='thegrefg', broadcaster_type=None, description='Hola, me llamo David, me quedé calvo delante de mucha gente, pongo contadores y tengo una skin en Fortnite (lo del WORLD RECORD fue un sueño). Business: contact@thegrefg.com', lang='en', last_game_played_name='Fortnite', view_count=196473103, profile_image_url=None, created_at='2013-09-12T00:45:27Z'),\n",
              " User(id='276663998', name='yointerneto', broadcaster_type=None, description='Hablamos de la Internet. Sintonízanos todos los LUNES y JUEVES a las 20:00', lang='es', last_game_played_name='League of Legends', view_count=4291034, profile_image_url=None, created_at='2018-11-20T20:44:54Z'),\n",
              " User(id='459331509', name='auronplay', broadcaster_type=None, description='feliz pero no mucho ', lang='es', last_game_played_name='Special Events', view_count=211820726, profile_image_url=None, created_at='2019-09-03T14:02:49Z'),\n",
              " User(id='29817507', name='sjokz', broadcaster_type=None, description='Freelance esports host and streamer. ', lang='es', last_game_played_name='The Legend of Zelda: Breath of the Wild', view_count=4598432, profile_image_url=None, created_at='2012-04-15T21:12:46Z'),\n",
              " User(id='62951382', name='akawonder', broadcaster_type=None, description='Mi nombre es Esteban Serrano aunque soy más conocido como AKAWonder, juego a TFT actualmente y he ganado dos majors en mi carrera como jugador de Hearthstone. Si quieres saber más sobre mi visita https://akawonder.com', lang='es', last_game_played_name='Thetan Arena', view_count=23437656, profile_image_url=None, created_at='2014-05-21T22:26:00Z'),\n",
              " User(id='30357893', name='werlyb', broadcaster_type=None, description='', lang='es', last_game_played_name='VALORANT', view_count=28510466, profile_image_url=None, created_at='2012-05-07T16:02:16Z'),\n",
              " User(id='61835123', name='kxmi', broadcaster_type=None, description='Mejor Draven de Europa. Youtube: http://youtube.com/carritoskamiyt ', lang='en', last_game_played_name='League of Legends', view_count=22174525, profile_image_url=None, created_at='2014-04-29T20:23:10Z'),\n",
              " User(id='90075649', name='illojuan', broadcaster_type=None, description='Illo, soy Juan, tengo un canal en Youtube que se llama LMDShow y aquí hago directos de cosas. Soy de Málaga y llevo a mi espalda 27 años de jolgorio.', lang='es', last_game_played_name='League of Legends', view_count=45765359, profile_image_url=None, created_at='2015-05-02T17:47:43Z'),\n",
              " User(id='25824481', name='bladecito', broadcaster_type=None, description='Bienvenidos a la PUTA ARMY! El mejor grupo de todo TWITCH!  Jamau Hasta La Muerte oiteee kbronnn brrrrrrrrr', lang='en', last_game_played_name='', view_count=13580533, profile_image_url=None, created_at='2011-10-30T17:09:11Z'),\n",
              " User(id='38446500', name='g4g_revenant', broadcaster_type=None, description='Tony el Parrys en acción', lang='es', last_game_played_name='League of Legends', view_count=30777270, profile_image_url=None, created_at='2012-12-13T22:29:18Z'),\n",
              " User(id='148089350', name='nilgarcia10', broadcaster_type=None, description='Charlatán a tiempo parcial, bobo a tiempo completo. Influencer de influencers.', lang='en', last_game_played_name='VALORANT', view_count=1098160, profile_image_url=None, created_at='2017-02-18T14:44:48Z'),\n",
              " User(id='1895664', name='djmariio', broadcaster_type=None, description='http://www.youtube.com/DjMaRiiO ', lang='es', last_game_played_name='Minecraft', view_count=3645353, profile_image_url=None, created_at='2008-09-24T21:06:33Z'),\n",
              " User(id='40110994', name='reventxz', broadcaster_type=None, description='Streamer Didáctico de Teamfight Tactics y otros juegos', lang='es', last_game_played_name='League of Legends', view_count=29965994, profile_image_url=None, created_at='2013-02-07T17:44:34Z'),\n",
              " User(id='58753574', name='zeling', broadcaster_type=None, description='Hola , no se que poner, me gusta hacer stream y trollear al chat :3♥️- zelingstream@gmail.com -♥️', lang='es', last_game_played_name='League of Legends', view_count=22769557, profile_image_url=None, created_at='2014-03-13T00:18:29Z'),\n",
              " User(id='36138196', name='alexelcapo', broadcaster_type=None, description='Nací en el 87 y me gusta jugar a videojuegos.', lang='es', last_game_played_name='VALORANT', view_count=71788177, profile_image_url=None, created_at='2012-09-12T21:24:26Z'),\n",
              " User(id='39276140', name='rubius', broadcaster_type=None, description='se contar hasta patata', lang='es', last_game_played_name='Just Chatting', view_count=222665347, profile_image_url=None, created_at='2013-01-12T18:46:56Z'),\n",
              " User(id='107627864', name='soyfelipez360', broadcaster_type=None, description='A veces juego a cosas', lang='es', last_game_played_name='VALORANT', view_count=14675710, profile_image_url=None, created_at='2015-11-21T13:43:46Z'),\n",
              " User(id='167100879', name='littleragergirl', broadcaster_type=None, description='｡･:*:･ﾟ★,｡･:*:･ﾟ☆｡･:*:･ﾟ★,｡･:*:･ﾟ☆｡･:*:･ﾟ★,｡･:*:･ﾟ☆｡･:*:･ﾟ★,｡･:*:･ﾟ☆｡･:*:･ﾟ★,｡･:*:･ﾟ☆｡･:*:･ﾟ★,｡･:*:･ﾟ☆', lang='es', last_game_played_name='Teamfight Tactics', view_count=17250431, profile_image_url=None, created_at='2017-07-28T10:46:09Z'),\n",
              " User(id='42028083', name='lvpes2', broadcaster_type=None, description='¡Bienvenid@s al canal de CS:GO y VALORANT de la LVP!', lang='es', last_game_played_name='Teamfight Tactics', view_count=66052805, profile_image_url=None, created_at='2013-04-03T10:51:09Z'),\n",
              " User(id='82427972', name='esl_spain_tv', broadcaster_type=None, description='', lang='es', last_game_played_name='VALORANT', view_count=10299537, profile_image_url=None, created_at='2015-02-11T22:00:01Z'),\n",
              " User(id='152633332', name='knekro', broadcaster_type=None, description='', lang='es', last_game_played_name='League of Legends: Wild Rift', view_count=52615381, profile_image_url=None, created_at='2017-04-07T16:28:21Z'),\n",
              " User(id='57793021', name='lolitofdez', broadcaster_type=None, description='| CHEATER 100% CONFIRMED | ', lang='es', last_game_played_name='League of Legends', view_count=37832032, profile_image_url=None, created_at='2014-02-26T19:51:46Z'),\n",
              " User(id='25058448', name='orslok', broadcaster_type=None, description='____', lang='es', last_game_played_name='Just Chatting', view_count=14404524, profile_image_url=None, created_at='2011-09-25T09:46:19Z'),\n",
              " User(id='19571641', name='ninja', broadcaster_type=None, description='', lang='es', last_game_played_name='VALORANT', view_count=557596987, profile_image_url=None, created_at='2011-01-16T04:31:20Z'),\n",
              " User(id='124425501', name='lck', broadcaster_type=None, description=\"For more information, schedules and stats head to the LCK's social media. \", lang='es', last_game_played_name='Ni no Kuni: Wrath of the White Witch Remastered', view_count=128307821, profile_image_url=None, created_at='2016-05-16T18:35:22Z'),\n",
              " User(id='132279966', name='tvander', broadcaster_type=None, description='Amigo de mis amigos (y de Ibai) ', lang='en', last_game_played_name='Fortnite', view_count=14846279, profile_image_url=None, created_at='2016-08-15T17:58:51Z'),\n",
              " User(id='124422593', name='lec', broadcaster_type=None, description='Official Twitch Channel of the League of Legends European Championship. For more information, schedules and stats head to Lolesports.com', lang='es', last_game_played_name='Fortnite', view_count=131115305, profile_image_url=None, created_at='2016-05-16T18:00:12Z'),\n",
              " User(id='99625250', name='esportmaniacos', broadcaster_type=None, description='Esportmaníacos es un canal donde cubrimos la actualidad de los deportes electrónicos, principalmente League of Legends.', lang='es', last_game_played_name='Just Chatting', view_count=28322098, profile_image_url=None, created_at='2015-08-18T16:53:02Z'),\n",
              " User(id='48589777', name='ethieen', broadcaster_type=None, description='Juego a cosas mientas hablo de la vida', lang='es', last_game_played_name='League of Legends', view_count=7357843, profile_image_url=None, created_at='2013-09-05T17:49:05Z'),\n",
              " User(id='39115143', name='th3antonio', broadcaster_type=None, description='EL PELUCAS ', lang='es', last_game_played_name='Raid: Shadow Legends', view_count=27259784, profile_image_url=None, created_at='2013-01-07T00:28:35Z'),\n",
              " User(id='41879247', name='ernesbarbeq', broadcaster_type=None, description='', lang='es', last_game_played_name='Teamfight Tactics', view_count=15475357, profile_image_url=None, created_at='2013-03-30T15:15:51Z'),\n",
              " User(id='26090010', name='ulises', broadcaster_type=None, description='Comentarista, editor y creador de contenidos en @LVPes, imbécil a tiempo completo y renacido #aPetarseLaPasta', lang='es', last_game_played_name='League of Legends', view_count=4724025, profile_image_url=None, created_at='2011-11-12T19:51:31Z'),\n",
              " User(id='36029255', name='riotgames', broadcaster_type=None, description='Welcome to the Riot Games channel, home of LoL Esports and other livestreams related to our games. For LoL Esports broadcasts, schedules, standings and advanced viewing features, head to http://lolesports.com.', lang='es', last_game_played_name='League of Legends', view_count=1336360346, profile_image_url=None, created_at='2012-09-08T06:53:10Z'),\n",
              " User(id='22346597', name='lvpes', broadcaster_type=None, description='', lang='es', last_game_played_name='Teamfight Tactics', view_count=227604077, profile_image_url=None, created_at='2011-05-11T10:25:51Z'),\n",
              " User(id='75965799', name='lvpwolk', broadcaster_type=None, description='Comentarista de League of Legends en LVP.RUIN Y MEZQUINO.', lang='es', last_game_played_name='PUBG Mobile', view_count=99042, profile_image_url=None, created_at='2014-11-26T10:29:56Z'),\n",
              " User(id='408316475', name='nuncamefui', broadcaster_type=None, description='', lang='es', last_game_played_name='Genshin Impact', view_count=247261, profile_image_url=None, created_at='2019-01-10T16:48:29Z'),\n",
              " User(id='66399374', name='galletas', broadcaster_type=None, description='Me enfado mucho pero es todo en clave de humor.', lang='es', last_game_played_name='League of Legends', view_count=270640, profile_image_url=None, created_at='2014-07-15T15:32:59Z'),\n",
              " User(id='102404582', name='silerr8', broadcaster_type=None, description='Midlaner de TEAM QUESO y campeon del SOLOQCHALLENGE x2', lang='es', last_game_played_name='The Elder Scrolls V: Skyrim', view_count=2940621, profile_image_url=None, created_at='2015-09-17T18:41:42Z'),\n",
              " User(id='29841683', name='nubbinsgoody', broadcaster_type=None, description=\"My name is Jonas Neubauer and I'm the 7-time Classic Tetris World Champion.  I want to stream some of my practice games and talk about my thought processes and strategies.  My wife and our whiskey collection might make a few cameos here and there, as well.\", lang='es', last_game_played_name='Golden Sun: Dark Dawn', view_count=645952, profile_image_url=None, created_at='2012-04-17T04:28:37Z'),\n",
              " User(id='88572935', name='leprosyfoxtrot', broadcaster_type=None, description='', lang='en', last_game_played_name='', view_count=153, profile_image_url=None, created_at='2015-04-14T20:23:12Z'),\n",
              " User(id='47919664', name='champi14', broadcaster_type=None, description='Color caster de League of Legends en LVP, diamante hardstuck y fan de la LPL', lang='es', last_game_played_name='Just Chatting', view_count=1413079, profile_image_url=None, created_at='2013-08-21T16:28:59Z'),\n",
              " User(id='108460978', name='borhabibi', broadcaster_type=None, description='', lang='en', last_game_played_name='', view_count=815, profile_image_url=None, created_at='2015-12-01T16:15:25Z'),\n",
              " User(id='81795200', name='holasoysergio1', broadcaster_type=None, description='', lang='es', last_game_played_name='League of Legends', view_count=2121283, profile_image_url=None, created_at='2015-02-04T17:23:57Z'),\n",
              " User(id='42028111', name='lvpes3', broadcaster_type=None, description='Canal de la LVP, Liga de Videojuegos Profesional. http://www.lvp.es', lang='es', last_game_played_name='Minecraft', view_count=24677149, profile_image_url=None, created_at='2013-04-03T10:53:28Z'),\n",
              " User(id='87707231', name='unkkks', broadcaster_type=None, description=':)', lang='es', last_game_played_name='League of Legends', view_count=6436, profile_image_url=None, created_at='2015-04-06T15:04:39Z'),\n",
              " User(id='39116718', name='guilean', broadcaster_type=None, description='https://pau.im/', lang='en', last_game_played_name='League of Legends', view_count=699731, profile_image_url=None, created_at='2013-01-07T01:38:36Z'),\n",
              " User(id='62546905', name='jac0b0', broadcaster_type=None, description='Soy Jacobo o Jacono dependiendo del dia, jugador de TFT competitivo, me gusta mucho stremear e interaccionar con el chat', lang='en', last_game_played_name='League of Legends', view_count=18390841, profile_image_url=None, created_at='2014-05-13T01:12:33Z'),\n",
              " User(id='50244027', name='kuentinlol', broadcaster_type=None, description='', lang='es', last_game_played_name='League of Legends', view_count=2954942, profile_image_url=None, created_at='2013-10-16T20:05:00Z'),\n",
              " User(id='29836234', name='teshrak', broadcaster_type=None, description='Comentarista de League of Legends haciendo contenido sobre el juego como esport, o eso intento, suelo terminar contestando más al chat que haciendo caso a las partidas. También juego a varias cosas diferentes de vez en cuando.', lang='es', last_game_played_name='F1 2021', view_count=948751, profile_image_url=None, created_at='2012-04-16T21:40:10Z'),\n",
              " User(id='91816176', name='ftreformed', broadcaster_type=None, description='Antes caster en LVP, ahora head coach de 19esports en Valorant. ', lang='es', last_game_played_name='Minecraft', view_count=1995464, profile_image_url=None, created_at='2015-05-24T13:10:33Z'),\n",
              " User(id='93611458', name='ismax95', broadcaster_type=None, description='', lang='es', last_game_played_name='Just Chatting', view_count=63, profile_image_url=None, created_at='2015-06-15T18:26:09Z'),\n",
              " User(id='101138958', name='sejuanz', broadcaster_type=None, description='', lang='es', last_game_played_name='Just Chatting', view_count=38, profile_image_url=None, created_at='2015-08-31T22:58:25Z'),\n",
              " User(id='39840039', name='jer0m', broadcaster_type=None, description='Playing toplane in top elo', lang='es', last_game_played_name='VALORANT', view_count=230119, profile_image_url=None, created_at='2013-01-30T19:03:07Z'),\n",
              " User(id='21374254', name='ivernadero', broadcaster_type=None, description='', lang='es', last_game_played_name='Minecraft', view_count=601532, profile_image_url=None, created_at='2011-03-27T16:59:15Z')]"
            ]
          },
          "execution_count": 23,
          "metadata": {},
          "output_type": "execute_result"
        }
      ],
      "source": [
        "users = User.get_users(ibai_follows)\n",
        "users"
      ]
    }
  ],
  "metadata": {
    "colab": {
      "collapsed_sections": [],
      "name": "Pruebas_Twitch_API.ipynb",
      "provenance": []
    },
    "kernelspec": {
      "display_name": "Python 3",
      "language": "python",
      "name": "python3"
    },
    "language_info": {
      "codemirror_mode": {
        "name": "ipython",
        "version": 3
      },
      "file_extension": ".py",
      "mimetype": "text/x-python",
      "name": "python",
      "nbconvert_exporter": "python",
      "pygments_lexer": "ipython3",
      "version": "3.8.8"
    }
  },
  "nbformat": 4,
  "nbformat_minor": 5
}
