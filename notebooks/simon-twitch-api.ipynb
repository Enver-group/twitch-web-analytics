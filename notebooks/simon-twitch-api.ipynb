{
  "cells": [
    {
      "cell_type": "code",
      "execution_count": 7,
      "id": "d2cf322d",
      "metadata": {},
      "outputs": [],
      "source": [
        "%%capture\n",
        "import os\n",
        "\n",
        "# check if this is a colab notebook and clone the repo if it is\n",
        "if 'COLAB_GPU' in os.environ:\n",
        "    %cd /content/\n",
        "    !git clone https://github.com/Enver-group/twitch-web-analytics\n",
        "    %cd twitch-web-analytics\n",
        "else:\n",
        "    os.chdir('..')\n",
        "\n",
        "!pip install -r requirements.txt\n",
        "\n",
        "!pip install -e ."
      ]
    },
    {
      "cell_type": "code",
      "execution_count": 8,
      "id": "f7cd4409",
      "metadata": {},
      "outputs": [
        {
          "data": {
            "text/plain": [
              "'/home/simon/Documents/Uni/WebAnalytics/TwitchProject'"
            ]
          },
          "execution_count": 8,
          "metadata": {},
          "output_type": "execute_result"
        }
      ],
      "source": [
        "# Tambien es necesario settear los token de acceso a la API de twitch\n",
        "# os.environ['TWITCH_CLIENT_ID'] = '<YOUR_CLIENT_ID>'\n",
        "# os.environ['TWITCH_CLIENT_SECRET'] = '<YOUR_CLIENT_SECRET>'"
      ]
    },
    {
      "cell_type": "code",
      "execution_count": 2,
      "id": "297880f0",
      "metadata": {
        "colab": {
          "base_uri": "https://localhost:8080/"
        },
        "id": "297880f0",
        "outputId": "d85bf6e7-7216-4df8-b5d0-f9bf70707485"
      },
      "outputs": [],
      "source": [
        "#autoreload modules\n",
        "%load_ext autoreload\n",
        "%autoreload 2\n",
        "\n",
        "from src.user import User"
      ]
    },
    {
      "cell_type": "code",
      "execution_count": 3,
      "id": "1df7d03a",
      "metadata": {},
      "outputs": [
        {
          "name": "stdout",
          "output_type": "stream",
          "text": [
            "Ibai follows 155 users\n"
          ]
        }
      ],
      "source": [
        "ibai = User.from_name(\"ibai\")\n",
        "ibai_follows = ibai.follows\n",
        "print(f\"{ibai.name.capitalize()} follows {len(ibai_follows)} users\")"
      ]
    },
    {
      "cell_type": "code",
      "execution_count": 4,
      "id": "bcffa8f8",
      "metadata": {},
      "outputs": [
        {
          "name": "stdout",
          "output_type": "stream",
          "text": [
            "155 users retrieved from the list of follows\n"
          ]
        }
      ],
      "source": [
        "users_that_ibai_follows = User.get_users(ibai_follows)\n",
        "print(\"%s users retrieved from the list of follows\"%len(users_that_ibai_follows))"
      ]
    },
    {
      "cell_type": "code",
      "execution_count": 5,
      "id": "3c1eec0a",
      "metadata": {},
      "outputs": [
        {
          "data": {
            "text/html": [
              "<div>\n",
              "<style scoped>\n",
              "    .dataframe tbody tr th:only-of-type {\n",
              "        vertical-align: middle;\n",
              "    }\n",
              "\n",
              "    .dataframe tbody tr th {\n",
              "        vertical-align: top;\n",
              "    }\n",
              "\n",
              "    .dataframe thead th {\n",
              "        text-align: right;\n",
              "    }\n",
              "</style>\n",
              "<table border=\"1\" class=\"dataframe\">\n",
              "  <thead>\n",
              "    <tr style=\"text-align: right;\">\n",
              "      <th></th>\n",
              "      <th>id</th>\n",
              "      <th>name</th>\n",
              "      <th>broadcaster_type</th>\n",
              "      <th>description</th>\n",
              "      <th>lang</th>\n",
              "      <th>last_game_played_name</th>\n",
              "      <th>view_count</th>\n",
              "      <th>profile_image_url</th>\n",
              "      <th>created_at</th>\n",
              "      <th>follows</th>\n",
              "    </tr>\n",
              "  </thead>\n",
              "  <tbody>\n",
              "    <tr>\n",
              "      <th>0</th>\n",
              "      <td>83232866</td>\n",
              "      <td>ibai</td>\n",
              "      <td>partner</td>\n",
              "      <td>Si lees esto que sepas que te aprecio</td>\n",
              "      <td>es</td>\n",
              "      <td>VALORANT</td>\n",
              "      <td>286975442</td>\n",
              "      <td>https://static-cdn.jtvnw.net/jtv_user_pictures...</td>\n",
              "      <td>2015-02-20T16:47:56Z</td>\n",
              "      <td>[35980866, 145908612, 205218019, 91136321, 524...</td>\n",
              "    </tr>\n",
              "  </tbody>\n",
              "</table>\n",
              "</div>"
            ],
            "text/plain": [
              "         id  name broadcaster_type                            description  \\\n",
              "0  83232866  ibai          partner  Si lees esto que sepas que te aprecio   \n",
              "\n",
              "  lang last_game_played_name  view_count  \\\n",
              "0   es              VALORANT   286975442   \n",
              "\n",
              "                                   profile_image_url            created_at  \\\n",
              "0  https://static-cdn.jtvnw.net/jtv_user_pictures...  2015-02-20T16:47:56Z   \n",
              "\n",
              "                                             follows  \n",
              "0  [35980866, 145908612, 205218019, 91136321, 524...  "
            ]
          },
          "execution_count": 5,
          "metadata": {},
          "output_type": "execute_result"
        }
      ],
      "source": [
        "import pandas as pd\n",
        "df = pd.DataFrame([ibai])\n",
        "df"
      ]
    },
    {
      "cell_type": "code",
      "execution_count": 24,
      "id": "e6a6bccc",
      "metadata": {},
      "outputs": [
        {
          "name": "stderr",
          "output_type": "stream",
          "text": [
            "INFO:src.data.make_dataset:Collecting users from a tree of twitch users follows starting from the follows of the user: ibai\n",
            "INFO:src.data.make_dataset:New users will be fetched until 500 users are reached or the program is manually interrupted.\n",
            "INFO:src.data.make_dataset:155 users from the root user's follows have been collected. The tree will be expanded randomly starting from one of them.\n",
            "INFO:src.data.make_dataset:438 users have been retrieved until now.\n",
            "INFO:src.data.make_dataset:writing dataset to file data/data.csv\n",
            "INFO:src.data.make_dataset:max_users reached. 992 users were retrieved.\n",
            "INFO:src.data.make_dataset:writing dataset to file before stopping...\n"
          ]
        }
      ],
      "source": [
        "from src.data import make_data_from_root_user\n",
        "\n",
        "# Obtiene datos de cada usuario del arbol empezando por Ibai y sus follows\n",
        "# cada iteracion siguiente coge un usuario del arbol aleatorio para añadir sus follows \n",
        "# y asi hasta llegar a max_users o que se interrumpa manualmente. \n",
        "# Cada 50 iteraciones guarda el progreso actual en un archivo csv\n",
        "make_data_from_root_user(\"ibai\",output_filepath=\"data/data.csv\",max_users=5000)"
      ]
    },
    {
      "cell_type": "code",
      "execution_count": 20,
      "id": "bbfa69ec",
      "metadata": {},
      "outputs": [
        {
          "data": {
            "text/html": [
              "<div>\n",
              "<style scoped>\n",
              "    .dataframe tbody tr th:only-of-type {\n",
              "        vertical-align: middle;\n",
              "    }\n",
              "\n",
              "    .dataframe tbody tr th {\n",
              "        vertical-align: top;\n",
              "    }\n",
              "\n",
              "    .dataframe thead th {\n",
              "        text-align: right;\n",
              "    }\n",
              "</style>\n",
              "<table border=\"1\" class=\"dataframe\">\n",
              "  <thead>\n",
              "    <tr style=\"text-align: right;\">\n",
              "      <th></th>\n",
              "      <th>id</th>\n",
              "      <th>name</th>\n",
              "      <th>broadcaster_type</th>\n",
              "      <th>description</th>\n",
              "      <th>lang</th>\n",
              "      <th>last_game_played_name</th>\n",
              "      <th>view_count</th>\n",
              "      <th>profile_image_url</th>\n",
              "      <th>created_at</th>\n",
              "    </tr>\n",
              "  </thead>\n",
              "  <tbody>\n",
              "    <tr>\n",
              "      <th>0</th>\n",
              "      <td>83232866</td>\n",
              "      <td>ibai</td>\n",
              "      <td>partner</td>\n",
              "      <td>Si lees esto que sepas que te aprecio</td>\n",
              "      <td>es</td>\n",
              "      <td>VALORANT</td>\n",
              "      <td>286966369.0</td>\n",
              "      <td>https://static-cdn.jtvnw.net/jtv_user_pictures...</td>\n",
              "      <td>2015-02-20T16:47:56Z</td>\n",
              "    </tr>\n",
              "    <tr>\n",
              "      <th>1</th>\n",
              "      <td>39840039</td>\n",
              "      <td>jer0m</td>\n",
              "      <td>partner</td>\n",
              "      <td>Playing toplane in top elo</td>\n",
              "      <td>es</td>\n",
              "      <td>League of Legends</td>\n",
              "      <td>230119.0</td>\n",
              "      <td>https://static-cdn.jtvnw.net/jtv_user_pictures...</td>\n",
              "      <td>2013-01-30T19:03:07Z</td>\n",
              "    </tr>\n",
              "    <tr>\n",
              "      <th>2</th>\n",
              "      <td>31220977</td>\n",
              "      <td>silithur</td>\n",
              "      <td>partner</td>\n",
              "      <td>¡Hola! Bienvenidos al refugio.</td>\n",
              "      <td>es</td>\n",
              "      <td>Grand Theft Auto V</td>\n",
              "      <td>16131522.0</td>\n",
              "      <td>https://static-cdn.jtvnw.net/jtv_user_pictures...</td>\n",
              "      <td>2012-06-10T18:56:41Z</td>\n",
              "    </tr>\n",
              "    <tr>\n",
              "      <th>3</th>\n",
              "      <td>88769260</td>\n",
              "      <td>huni</td>\n",
              "      <td>partner</td>\n",
              "      <td>NaN</td>\n",
              "      <td>en</td>\n",
              "      <td>League of Legends</td>\n",
              "      <td>3845599.0</td>\n",
              "      <td>https://static-cdn.jtvnw.net/jtv_user_pictures...</td>\n",
              "      <td>2015-04-17T13:07:24Z</td>\n",
              "    </tr>\n",
              "    <tr>\n",
              "      <th>4</th>\n",
              "      <td>68856833</td>\n",
              "      <td>carlitoxcr</td>\n",
              "      <td>affiliate</td>\n",
              "      <td>Adicto a la música, vídeojuegos e Internet / A...</td>\n",
              "      <td>es</td>\n",
              "      <td>Super Metroid</td>\n",
              "      <td>6418.0</td>\n",
              "      <td>https://static-cdn.jtvnw.net/jtv_user_pictures...</td>\n",
              "      <td>2014-08-13T10:12:30Z</td>\n",
              "    </tr>\n",
              "    <tr>\n",
              "      <th>...</th>\n",
              "      <td>...</td>\n",
              "      <td>...</td>\n",
              "      <td>...</td>\n",
              "      <td>...</td>\n",
              "      <td>...</td>\n",
              "      <td>...</td>\n",
              "      <td>...</td>\n",
              "      <td>...</td>\n",
              "      <td>...</td>\n",
              "    </tr>\n",
              "    <tr>\n",
              "      <th>993</th>\n",
              "      <td>109492660</td>\n",
              "      <td>reborn_live</td>\n",
              "      <td>partner</td>\n",
              "      <td>Dale al follow anda</td>\n",
              "      <td>es</td>\n",
              "      <td>Just Chatting</td>\n",
              "      <td>39416608.0</td>\n",
              "      <td>https://static-cdn.jtvnw.net/jtv_user_pictures...</td>\n",
              "      <td>2015-12-14T09:46:41Z</td>\n",
              "    </tr>\n",
              "    <tr>\n",
              "      <th>994</th>\n",
              "      <td>103810560</td>\n",
              "      <td>draken</td>\n",
              "      <td>partner</td>\n",
              "      <td>NaN</td>\n",
              "      <td>en</td>\n",
              "      <td>VALORANT</td>\n",
              "      <td>1590683.0</td>\n",
              "      <td>https://static-cdn.jtvnw.net/jtv_user_pictures...</td>\n",
              "      <td>2015-10-06T17:06:05Z</td>\n",
              "    </tr>\n",
              "    <tr>\n",
              "      <th>995</th>\n",
              "      <td>51919116</td>\n",
              "      <td>hitgg</td>\n",
              "      <td>partner</td>\n",
              "      <td>NaN</td>\n",
              "      <td>es</td>\n",
              "      <td>Grand Theft Auto V</td>\n",
              "      <td>5126232.0</td>\n",
              "      <td>https://static-cdn.jtvnw.net/jtv_user_pictures...</td>\n",
              "      <td>2013-11-21T18:43:11Z</td>\n",
              "    </tr>\n",
              "    <tr>\n",
              "      <th>996</th>\n",
              "      <td>86778344</td>\n",
              "      <td>nemikocos</td>\n",
              "      <td>affiliate</td>\n",
              "      <td>Hola, soy Nemi. ❤️</td>\n",
              "      <td>es</td>\n",
              "      <td>League of Legends</td>\n",
              "      <td>212790.0</td>\n",
              "      <td>https://static-cdn.jtvnw.net/jtv_user_pictures...</td>\n",
              "      <td>2015-03-29T01:20:25Z</td>\n",
              "    </tr>\n",
              "    <tr>\n",
              "      <th>997</th>\n",
              "      <td>38718052</td>\n",
              "      <td>alinity</td>\n",
              "      <td>partner</td>\n",
              "      <td>Follow my social media ❤️❤️❤️❤️ ! IBusiness: a...</td>\n",
              "      <td>es</td>\n",
              "      <td>VALORANT</td>\n",
              "      <td>83142520.0</td>\n",
              "      <td>https://static-cdn.jtvnw.net/jtv_user_pictures...</td>\n",
              "      <td>2012-12-23T20:17:56Z</td>\n",
              "    </tr>\n",
              "  </tbody>\n",
              "</table>\n",
              "<p>998 rows × 9 columns</p>\n",
              "</div>"
            ],
            "text/plain": [
              "            id         name broadcaster_type  \\\n",
              "0     83232866         ibai          partner   \n",
              "1     39840039        jer0m          partner   \n",
              "2     31220977     silithur          partner   \n",
              "3     88769260         huni          partner   \n",
              "4     68856833   carlitoxcr        affiliate   \n",
              "..         ...          ...              ...   \n",
              "993  109492660  reborn_live          partner   \n",
              "994  103810560       draken          partner   \n",
              "995   51919116        hitgg          partner   \n",
              "996   86778344    nemikocos        affiliate   \n",
              "997   38718052      alinity          partner   \n",
              "\n",
              "                                           description lang  \\\n",
              "0                Si lees esto que sepas que te aprecio   es   \n",
              "1                           Playing toplane in top elo   es   \n",
              "2                      ¡Hola! Bienvenidos al refugio.    es   \n",
              "3                                                  NaN   en   \n",
              "4    Adicto a la música, vídeojuegos e Internet / A...   es   \n",
              "..                                                 ...  ...   \n",
              "993                                Dale al follow anda   es   \n",
              "994                                                NaN   en   \n",
              "995                                                NaN   es   \n",
              "996                                 Hola, soy Nemi. ❤️   es   \n",
              "997  Follow my social media ❤️❤️❤️❤️ ! IBusiness: a...   es   \n",
              "\n",
              "    last_game_played_name   view_count  \\\n",
              "0                VALORANT  286966369.0   \n",
              "1       League of Legends     230119.0   \n",
              "2      Grand Theft Auto V   16131522.0   \n",
              "3       League of Legends    3845599.0   \n",
              "4           Super Metroid       6418.0   \n",
              "..                    ...          ...   \n",
              "993         Just Chatting   39416608.0   \n",
              "994              VALORANT    1590683.0   \n",
              "995    Grand Theft Auto V    5126232.0   \n",
              "996     League of Legends     212790.0   \n",
              "997              VALORANT   83142520.0   \n",
              "\n",
              "                                     profile_image_url            created_at  \n",
              "0    https://static-cdn.jtvnw.net/jtv_user_pictures...  2015-02-20T16:47:56Z  \n",
              "1    https://static-cdn.jtvnw.net/jtv_user_pictures...  2013-01-30T19:03:07Z  \n",
              "2    https://static-cdn.jtvnw.net/jtv_user_pictures...  2012-06-10T18:56:41Z  \n",
              "3    https://static-cdn.jtvnw.net/jtv_user_pictures...  2015-04-17T13:07:24Z  \n",
              "4    https://static-cdn.jtvnw.net/jtv_user_pictures...  2014-08-13T10:12:30Z  \n",
              "..                                                 ...                   ...  \n",
              "993  https://static-cdn.jtvnw.net/jtv_user_pictures...  2015-12-14T09:46:41Z  \n",
              "994  https://static-cdn.jtvnw.net/jtv_user_pictures...  2015-10-06T17:06:05Z  \n",
              "995  https://static-cdn.jtvnw.net/jtv_user_pictures...  2013-11-21T18:43:11Z  \n",
              "996  https://static-cdn.jtvnw.net/jtv_user_pictures...  2015-03-29T01:20:25Z  \n",
              "997  https://static-cdn.jtvnw.net/jtv_user_pictures...  2012-12-23T20:17:56Z  \n",
              "\n",
              "[998 rows x 9 columns]"
            ]
          },
          "execution_count": 20,
          "metadata": {},
          "output_type": "execute_result"
        }
      ],
      "source": [
        "pd.read_csv(\"data/data.csv\")"
      ]
    }
  ],
  "metadata": {
    "colab": {
      "collapsed_sections": [],
      "name": "Pruebas_Twitch_API.ipynb",
      "provenance": []
    },
    "kernelspec": {
      "display_name": "Python 3",
      "language": "python",
      "name": "python3"
    },
    "language_info": {
      "codemirror_mode": {
        "name": "ipython",
        "version": 3
      },
      "file_extension": ".py",
      "mimetype": "text/x-python",
      "name": "python",
      "nbconvert_exporter": "python",
      "pygments_lexer": "ipython3",
      "version": "3.8.8"
    }
  },
  "nbformat": 4,
  "nbformat_minor": 5
}
